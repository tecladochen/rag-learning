{
 "cells": [
  {
   "cell_type": "markdown",
   "id": "d0c060a2-d9bd-4ca1-b6e8-4e5c49d74ace",
   "metadata": {},
   "source": [
    "### 安装 modelscope"
   ]
  },
  {
   "cell_type": "code",
   "execution_count": 3,
   "id": "0089d04c-d1c4-4999-830c-0bdd8e8c6b3f",
   "metadata": {
    "ExecutionIndicator": {
     "show": true
    },
    "execution": {
     "iopub.execute_input": "2025-06-25T13:50:09.780038Z",
     "iopub.status.busy": "2025-06-25T13:50:09.779201Z",
     "iopub.status.idle": "2025-06-25T13:50:15.319832Z",
     "shell.execute_reply": "2025-06-25T13:50:15.319187Z",
     "shell.execute_reply.started": "2025-06-25T13:50:09.780004Z"
    },
    "tags": []
   },
   "outputs": [
    {
     "name": "stdout",
     "output_type": "stream",
     "text": [
      "Looking in indexes: https://mirrors.cloud.aliyuncs.com/pypi/simple\n",
      "Requirement already satisfied: modelscope in /usr/local/lib/python3.11/site-packages (1.27.0)\n",
      "Requirement already satisfied: requests>=2.25 in /usr/local/lib/python3.11/site-packages (from modelscope) (2.32.3)\n",
      "Requirement already satisfied: setuptools in /usr/local/lib/python3.11/site-packages (from modelscope) (65.5.1)\n",
      "Requirement already satisfied: tqdm>=4.64.0 in /usr/local/lib/python3.11/site-packages (from modelscope) (4.67.1)\n",
      "Requirement already satisfied: urllib3>=1.26 in /usr/local/lib/python3.11/site-packages (from modelscope) (2.3.0)\n",
      "Requirement already satisfied: charset-normalizer<4,>=2 in /usr/local/lib/python3.11/site-packages (from requests>=2.25->modelscope) (3.4.1)\n",
      "Requirement already satisfied: idna<4,>=2.5 in /usr/local/lib/python3.11/site-packages (from requests>=2.25->modelscope) (3.10)\n",
      "Requirement already satisfied: certifi>=2017.4.17 in /usr/local/lib/python3.11/site-packages (from requests>=2.25->modelscope) (2025.1.31)\n",
      "\u001b[33mDEPRECATION: pytorch-lightning 1.7.7 has a non-standard dependency specifier torch>=1.9.*. pip 24.0 will enforce this behaviour change. A possible replacement is to upgrade to a newer version of pytorch-lightning or contact the author to suggest that they release a version with a conforming dependency specifiers. Discussion can be found at https://github.com/pypa/pip/issues/12063\u001b[0m\u001b[33m\n",
      "\u001b[0m\u001b[33mWARNING: Running pip as the 'root' user can result in broken permissions and conflicting behaviour with the system package manager. It is recommended to use a virtual environment instead: https://pip.pypa.io/warnings/venv\u001b[0m\u001b[33m\n",
      "\u001b[0m\n",
      "\u001b[1m[\u001b[0m\u001b[34;49mnotice\u001b[0m\u001b[1;39;49m]\u001b[0m\u001b[39;49m A new release of pip is available: \u001b[0m\u001b[31;49m23.3.2\u001b[0m\u001b[39;49m -> \u001b[0m\u001b[32;49m25.1.1\u001b[0m\n",
      "\u001b[1m[\u001b[0m\u001b[34;49mnotice\u001b[0m\u001b[1;39;49m]\u001b[0m\u001b[39;49m To update, run: \u001b[0m\u001b[32;49mpip install --upgrade pip\u001b[0m\n"
     ]
    }
   ],
   "source": [
    "!pip install modelscope"
   ]
  },
  {
   "cell_type": "markdown",
   "id": "6760a372-7409-4aec-b9e5-ec2d9bc15afd",
   "metadata": {},
   "source": [
    "### 下载模型"
   ]
  },
  {
   "cell_type": "code",
   "execution_count": 4,
   "id": "bc98e96d-1cb0-4ea8-9f02-70023c49628b",
   "metadata": {
    "execution": {
     "iopub.execute_input": "2025-06-25T15:03:05.539782Z",
     "iopub.status.busy": "2025-06-25T15:03:05.539521Z",
     "iopub.status.idle": "2025-06-25T15:03:20.686249Z",
     "shell.execute_reply": "2025-06-25T15:03:20.685652Z",
     "shell.execute_reply.started": "2025-06-25T15:03:05.539759Z"
    }
   },
   "outputs": [
    {
     "name": "stdout",
     "output_type": "stream",
     "text": [
      "\n",
      " _   .-')                _ .-') _     ('-.             .-')                              _ (`-.    ('-.\n",
      "( '.( OO )_             ( (  OO) )  _(  OO)           ( OO ).                           ( (OO  ) _(  OO)\n",
      " ,--.   ,--.).-'),-----. \\     .'_ (,------.,--.     (_)---\\_)   .-----.  .-'),-----.  _.`     \\(,------.\n",
      " |   `.'   |( OO'  .-.  ',`'--..._) |  .---'|  |.-') /    _ |   '  .--./ ( OO'  .-.  '(__...--'' |  .---'\n",
      " |         |/   |  | |  ||  |  \\  ' |  |    |  | OO )\\  :` `.   |  |('-. /   |  | |  | |  /  | | |  |\n",
      " |  |'.'|  |\\_) |  |\\|  ||  |   ' |(|  '--. |  |`-' | '..`''.) /_) |OO  )\\_) |  |\\|  | |  |_.' |(|  '--.\n",
      " |  |   |  |  \\ |  | |  ||  |   / : |  .--'(|  '---.'.-._)   \\ ||  |`-'|   \\ |  | |  | |  .___.' |  .--'\n",
      " |  |   |  |   `'  '-'  '|  '--'  / |  `---.|      | \\       /(_'  '--'\\    `'  '-'  ' |  |      |  `---.\n",
      " `--'   `--'     `-----' `-------'  `------'`------'  `-----'    `-----'      `-----'  `--'      `------'\n",
      "\n",
      "Downloading Model from https://www.modelscope.cn to directory: /mnt/workspace/notebooks/models/Qwen3-0.6B\n",
      "Processing 9 items:   0%|                           | 0.00/9.00 [00:00<?, ?it/s]\n",
      "Downloading [config.json]:   0%|                      | 0.00/726 [00:00<?, ?B/s]\u001b[A\n",
      "\n",
      "Downloading [generation_config.json]:   0%|           | 0.00/239 [00:00<?, ?B/s]\u001b[A\u001b[A\n",
      "\n",
      "\n",
      "Downloading [merges.txt]:   0%|                     | 0.00/1.59M [00:00<?, ?B/s]\u001b[A\u001b[A\u001b[A\n",
      "\n",
      "\n",
      "\n",
      "Downloading [configuration.json]:   0%|              | 0.00/73.0 [00:00<?, ?B/s]\u001b[A\u001b[A\u001b[A\u001b[A\n",
      "\n",
      "\n",
      "\n",
      "\n",
      "Downloading [model.safetensors]:   0%|              | 0.00/1.40G [00:00<?, ?B/s]\u001b[A\u001b[A\u001b[A\u001b[A\u001b[A\n",
      "\n",
      "\n",
      "\n",
      "\n",
      "\n",
      "Downloading [README.md]:   0%|                      | 0.00/13.6k [00:00<?, ?B/s]\u001b[A\u001b[A\u001b[A\u001b[A\u001b[A\u001b[A\n",
      "\n",
      "\n",
      "\n",
      "\n",
      "\n",
      "\n",
      "Downloading [tokenizer.json]:   0%|                 | 0.00/10.9M [00:00<?, ?B/s]\u001b[A\u001b[A\u001b[A\u001b[A\u001b[A\u001b[A\u001b[A\n",
      "\n",
      "\n",
      "\n",
      "\n",
      "\n",
      "\n",
      "\n",
      "Downloading [tokenizer_config.json]:   0%|          | 0.00/9.50k [00:00<?, ?B/s]\u001b[A\u001b[A\u001b[A\u001b[A\u001b[A\u001b[A\u001b[A\u001b[A\n",
      "\n",
      "Downloading [generation_config.json]: 100%|██████| 239/239 [00:00<00:00, 558B/s]\u001b[A\u001b[A\n",
      "Processing 9 items:  11%|██▏                 | 1.00/9.00 [00:00<00:03, 2.22it/s]\n",
      "\n",
      "Downloading [vocab.json]:   0%|                     | 0.00/2.65M [00:00<?, ?B/s]\u001b[A\u001b[A\n",
      "\n",
      "\n",
      "\n",
      "\n",
      "\n",
      "Downloading [README.md]: 100%|█████████████| 13.6k/13.6k [00:00<00:00, 31.0kB/s]\u001b[A\u001b[A\u001b[A\u001b[A\u001b[A\u001b[A\n",
      "\n",
      "\n",
      "\n",
      "Downloading [merges.txt]:   0%|            | 3.80k/1.59M [00:00<03:22, 8.25kB/s]\u001b[A\u001b[A\u001b[A\n",
      "Downloading [config.json]: 100%|███████████████| 726/726 [00:00<00:00, 1.44kB/s]\u001b[A\n",
      "\n",
      "\n",
      "\n",
      "Downloading [config.json]: 100%|███████████████| 726/726 [00:00<00:00, 1.43kB/s]\u001b[A\u001b[A\u001b[A\u001b[A\n",
      "Downloading [configuration.json]: 100%|████████| 73.0/73.0 [00:00<00:00, 144B/s]\n",
      "\n",
      "\n",
      "\n",
      "\n",
      "\n",
      "Downloading [model.safetensors]:   0%|     | 1.00M/1.40G [00:00<12:41, 1.97MB/s]\u001b[A\u001b[A\u001b[A\u001b[A\u001b[A\n",
      "\n",
      "\n",
      "\n",
      "\n",
      "\n",
      "\n",
      "\n",
      "Downloading [tokenizer_config.json]: 100%|█| 9.50k/9.50k [00:00<00:00, 16.9kB/s]\u001b[A\u001b[A\u001b[A\u001b[A\u001b[A\u001b[A\u001b[A\u001b[A\n",
      "Downloading [merges.txt]: 100%|████████████| 1.59M/1.59M [00:00<00:00, 2.72MB/s]\n",
      "\n",
      "\n",
      "\n",
      "\n",
      "\n",
      "Downloading [model.safetensors]:   1%|     | 10.0M/1.40G [00:00<01:09, 21.4MB/s]\u001b[A\u001b[A\u001b[A\u001b[A\u001b[A\n",
      "\n",
      "\n",
      "\n",
      "\n",
      "\n",
      "\n",
      "Processing 9 items:  56%|███████████         | 5.00/9.00 [00:00<00:00, 8.60it/s]\u001b[A\u001b[A\u001b[A\u001b[A\u001b[A\u001b[A\u001b[A\n",
      "\n",
      "\n",
      "\n",
      "\n",
      "Downloading [model.safetensors]:   2%|     | 28.0M/1.40G [00:00<00:24, 59.6MB/s]\u001b[A\u001b[A\u001b[A\u001b[A\u001b[A\n",
      "\n",
      "\n",
      "\n",
      "\n",
      "\n",
      "\n",
      "Downloading [tokenizer.json]:  34%|██▋     | 3.69M/10.9M [00:00<00:01, 6.92MB/s]\u001b[A\u001b[A\u001b[A\u001b[A\u001b[A\u001b[A\u001b[A\n",
      "\n",
      "\n",
      "\n",
      "\n",
      "Downloading [model.safetensors]:   3%|▏    | 44.0M/1.40G [00:00<00:16, 85.7MB/s]\u001b[A\u001b[A\u001b[A\u001b[A\u001b[A\n",
      "\n",
      "\n",
      "\n",
      "\n",
      "\n",
      "\n",
      "Downloading [tokenizer.json]:  94%|███████▌| 10.2M/10.9M [00:00<00:00, 19.5MB/s]\u001b[A\u001b[A\u001b[A\u001b[A\u001b[A\u001b[A\u001b[A\n",
      "\n",
      "\n",
      "\n",
      "\n",
      "Downloading [model.safetensors]:   4%|▎     | 63.0M/1.40G [00:00<00:12, 114MB/s]\u001b[A\u001b[A\u001b[A\u001b[A\u001b[A\n",
      "\n",
      "Downloading [vocab.json]:   0%|            | 3.80k/2.65M [00:00<06:59, 6.62kB/s]\u001b[A\u001b[A\n",
      "\n",
      "\n",
      "\n",
      "\n",
      "Downloading [tokenizer.json]: 100%|████████| 10.9M/10.9M [00:01<00:00, 10.5MB/s]\u001b[A\u001b[A\u001b[A\u001b[A\u001b[A\n",
      "\n",
      "\n",
      "\n",
      "\n",
      "\n",
      "Downloading [vocab.json]: 100%|████████████| 2.65M/2.65M [00:00<00:00, 3.79MB/s]\u001b[A\u001b[A\u001b[A\u001b[A\u001b[A\n",
      "\n",
      "\n",
      "\n",
      "\n",
      "\n",
      "Processing 9 items:  78%|███████████████▌    | 7.00/9.00 [00:01<00:00, 5.29it/s]\u001b[A\u001b[A\u001b[A\u001b[A\u001b[A\n",
      "\n",
      "\n",
      "\n",
      "\n",
      "Downloading [model.safetensors]:   9%|▋      | 135M/1.40G [00:01<00:10, 134MB/s]\u001b[A\u001b[A\u001b[A\u001b[A\u001b[A\n",
      "\n",
      "\n",
      "\n",
      "\n",
      "Downloading [model.safetensors]:  11%|▊      | 154M/1.40G [00:01<00:08, 149MB/s]\u001b[A\u001b[A\u001b[A\u001b[A\u001b[A\n",
      "\n",
      "\n",
      "\n",
      "\n",
      "Downloading [model.safetensors]:  12%|▊      | 174M/1.40G [00:01<00:08, 164MB/s]\u001b[A\u001b[A\u001b[A\u001b[A\u001b[A\n",
      "\n",
      "\n",
      "\n",
      "\n",
      "Downloading [model.safetensors]:  14%|▉      | 194M/1.40G [00:01<00:07, 176MB/s]\u001b[A\u001b[A\u001b[A\u001b[A\u001b[A\n",
      "\n",
      "\n",
      "\n",
      "\n",
      "Downloading [model.safetensors]:  15%|█      | 214M/1.40G [00:01<00:06, 184MB/s]\u001b[A\u001b[A\u001b[A\u001b[A\u001b[A\n",
      "\n",
      "\n",
      "\n",
      "\n",
      "Downloading [model.safetensors]:  16%|█▏     | 233M/1.40G [00:01<00:06, 183MB/s]\u001b[A\u001b[A\u001b[A\u001b[A\u001b[A\n",
      "\n",
      "\n",
      "\n",
      "\n",
      "Downloading [model.safetensors]:  18%|█▏     | 253M/1.40G [00:02<00:06, 189MB/s]\u001b[A\u001b[A\u001b[A\u001b[A\u001b[A\n",
      "\n",
      "\n",
      "\n",
      "\n",
      "Downloading [model.safetensors]:  19%|█▎     | 273M/1.40G [00:02<00:06, 194MB/s]\u001b[A\u001b[A\u001b[A\u001b[A\u001b[A\n",
      "\n",
      "\n",
      "\n",
      "\n",
      "Downloading [model.safetensors]:  20%|█▍     | 293M/1.40G [00:02<00:06, 196MB/s]\u001b[A\u001b[A\u001b[A\u001b[A\u001b[A\n",
      "\n",
      "\n",
      "\n",
      "\n",
      "Downloading [model.safetensors]:  22%|█▌     | 312M/1.40G [00:02<00:06, 186MB/s]\u001b[A\u001b[A\u001b[A\u001b[A\u001b[A\n",
      "\n",
      "\n",
      "\n",
      "\n",
      "Downloading [model.safetensors]:  23%|█▌     | 330M/1.40G [00:02<00:06, 172MB/s]\u001b[A\u001b[A\u001b[A\u001b[A\u001b[A\n",
      "\n",
      "\n",
      "\n",
      "\n",
      "Downloading [model.safetensors]:  24%|█▋     | 347M/1.40G [00:02<00:06, 163MB/s]\u001b[A\u001b[A\u001b[A\u001b[A\u001b[A\n",
      "\n",
      "\n",
      "\n",
      "\n",
      "Downloading [model.safetensors]:  25%|█▊     | 363M/1.40G [00:02<00:07, 160MB/s]\u001b[A\u001b[A\u001b[A\u001b[A\u001b[A\n",
      "\n",
      "\n",
      "\n",
      "\n",
      "Downloading [model.safetensors]:  27%|█▊     | 382M/1.40G [00:02<00:06, 169MB/s]\u001b[A\u001b[A\u001b[A\u001b[A\u001b[A\n",
      "\n",
      "\n",
      "\n",
      "\n",
      "Downloading [model.safetensors]:  28%|█▉     | 402M/1.40G [00:02<00:06, 179MB/s]\u001b[A\u001b[A\u001b[A\u001b[A\u001b[A\n",
      "\n",
      "\n",
      "\n",
      "\n",
      "Downloading [model.safetensors]:  29%|██     | 422M/1.40G [00:03<00:05, 186MB/s]\u001b[A\u001b[A\u001b[A\u001b[A\u001b[A\n",
      "\n",
      "\n",
      "\n",
      "\n",
      "Downloading [model.safetensors]:  31%|██▏    | 442M/1.40G [00:03<00:05, 189MB/s]\u001b[A\u001b[A\u001b[A\u001b[A\u001b[A\n",
      "\n",
      "\n",
      "\n",
      "\n",
      "Downloading [model.safetensors]:  32%|██▎    | 461M/1.40G [00:03<00:06, 155MB/s]\u001b[A\u001b[A\u001b[A\u001b[A\u001b[A\n",
      "\n",
      "\n",
      "\n",
      "\n",
      "Downloading [model.safetensors]:  33%|██▎    | 477M/1.40G [00:03<00:07, 141MB/s]\u001b[A\u001b[A\u001b[A\u001b[A\u001b[A\n",
      "\n",
      "\n",
      "\n",
      "\n",
      "Downloading [model.safetensors]:  34%|██▍    | 492M/1.40G [00:03<00:07, 137MB/s]\u001b[A\u001b[A\u001b[A\u001b[A\u001b[A\n",
      "\n",
      "\n",
      "\n",
      "\n",
      "Downloading [model.safetensors]:  35%|██▍    | 506M/1.40G [00:03<00:07, 137MB/s]\u001b[A\u001b[A\u001b[A\u001b[A\u001b[A\n",
      "\n",
      "\n",
      "\n",
      "\n",
      "Downloading [model.safetensors]:  36%|██▌    | 520M/1.40G [00:03<00:06, 137MB/s]\u001b[A\u001b[A\u001b[A\u001b[A\u001b[A\n",
      "\n",
      "\n",
      "\n",
      "\n",
      "Downloading [model.safetensors]:  37%|██▌    | 534M/1.40G [00:03<00:06, 137MB/s]\u001b[A\u001b[A\u001b[A\u001b[A\u001b[A\n",
      "\n",
      "\n",
      "\n",
      "\n",
      "Downloading [model.safetensors]:  38%|██▋    | 548M/1.40G [00:04<00:06, 137MB/s]\u001b[A\u001b[A\u001b[A\u001b[A\u001b[A\n",
      "\n",
      "\n",
      "\n",
      "\n",
      "Downloading [model.safetensors]:  39%|██▋    | 563M/1.40G [00:04<00:06, 142MB/s]\u001b[A\u001b[A\u001b[A\u001b[A\u001b[A\n",
      "\n",
      "\n",
      "\n",
      "\n",
      "Downloading [model.safetensors]:  40%|██▊    | 577M/1.40G [00:04<00:06, 134MB/s]\u001b[A\u001b[A\u001b[A\u001b[A\u001b[A\n",
      "\n",
      "\n",
      "\n",
      "\n",
      "Downloading [model.safetensors]:  41%|██▉    | 590M/1.40G [00:04<00:07, 126MB/s]\u001b[A\u001b[A\u001b[A\u001b[A\u001b[A\n",
      "\n",
      "\n",
      "\n",
      "\n",
      "Downloading [model.safetensors]:  42%|██▉    | 603M/1.40G [00:04<00:07, 123MB/s]\u001b[A\u001b[A\u001b[A\u001b[A\u001b[A\n",
      "\n",
      "\n",
      "\n",
      "\n",
      "Downloading [model.safetensors]:  43%|███    | 615M/1.40G [00:04<00:07, 121MB/s]\u001b[A\u001b[A\u001b[A\u001b[A\u001b[A\n",
      "\n",
      "\n",
      "\n",
      "\n",
      "Downloading [model.safetensors]:  44%|███    | 628M/1.40G [00:04<00:06, 125MB/s]\u001b[A\u001b[A\u001b[A\u001b[A\u001b[A\n",
      "\n",
      "\n",
      "\n",
      "\n",
      "Downloading [model.safetensors]:  45%|███▏   | 642M/1.40G [00:04<00:06, 129MB/s]\u001b[A\u001b[A\u001b[A\u001b[A\u001b[A\n",
      "\n",
      "\n",
      "\n",
      "\n",
      "Downloading [model.safetensors]:  46%|███▏   | 656M/1.40G [00:04<00:06, 131MB/s]\u001b[A\u001b[A\u001b[A\u001b[A\u001b[A\n",
      "\n",
      "\n",
      "\n",
      "\n",
      "Downloading [model.safetensors]:  47%|███▎   | 670M/1.40G [00:05<00:06, 133MB/s]\u001b[A\u001b[A\u001b[A\u001b[A\u001b[A\n",
      "\n",
      "\n",
      "\n",
      "\n",
      "Downloading [model.safetensors]:  48%|███▎   | 684M/1.40G [00:05<00:05, 137MB/s]\u001b[A\u001b[A\u001b[A\u001b[A\u001b[A\n",
      "\n",
      "\n",
      "\n",
      "\n",
      "Downloading [model.safetensors]:  49%|███▍   | 698M/1.40G [00:05<00:05, 135MB/s]\u001b[A\u001b[A\u001b[A\u001b[A\u001b[A\n",
      "\n",
      "\n",
      "\n",
      "\n",
      "Downloading [model.safetensors]:  50%|███▍   | 711M/1.40G [00:05<00:06, 126MB/s]\u001b[A\u001b[A\u001b[A\u001b[A\u001b[A\n",
      "\n",
      "\n",
      "\n",
      "\n",
      "Downloading [model.safetensors]:  51%|███▌   | 724M/1.40G [00:05<00:06, 120MB/s]\u001b[A\u001b[A\u001b[A\u001b[A\u001b[A\n",
      "\n",
      "\n",
      "\n",
      "\n",
      "Downloading [model.safetensors]:  51%|███▌   | 736M/1.40G [00:05<00:06, 120MB/s]\u001b[A\u001b[A\u001b[A\u001b[A\u001b[A\n",
      "\n",
      "\n",
      "\n",
      "\n",
      "Downloading [model.safetensors]:  52%|███▋   | 749M/1.40G [00:05<00:05, 124MB/s]\u001b[A\u001b[A\u001b[A\u001b[A\u001b[A\n",
      "\n",
      "\n",
      "\n",
      "\n",
      "Downloading [model.safetensors]:  53%|███▋   | 762M/1.40G [00:05<00:05, 127MB/s]\u001b[A\u001b[A\u001b[A\u001b[A\u001b[A\n",
      "\n",
      "\n",
      "\n",
      "\n",
      "Downloading [model.safetensors]:  54%|███▊   | 775M/1.40G [00:05<00:05, 128MB/s]\u001b[A\u001b[A\u001b[A\u001b[A\u001b[A\n",
      "\n",
      "\n",
      "\n",
      "\n",
      "Downloading [model.safetensors]:  55%|███▊   | 788M/1.40G [00:06<00:05, 130MB/s]\u001b[A\u001b[A\u001b[A\u001b[A\u001b[A\n",
      "\n",
      "\n",
      "\n",
      "\n",
      "Downloading [model.safetensors]:  56%|███▉   | 801M/1.40G [00:06<00:05, 131MB/s]\u001b[A\u001b[A\u001b[A\u001b[A\u001b[A\n",
      "\n",
      "\n",
      "\n",
      "\n",
      "Downloading [model.safetensors]:  57%|███▉   | 814M/1.40G [00:06<00:04, 133MB/s]\u001b[A\u001b[A\u001b[A\u001b[A\u001b[A\n",
      "\n",
      "\n",
      "\n",
      "\n",
      "Downloading [model.safetensors]:  58%|████   | 828M/1.40G [00:06<00:04, 136MB/s]\u001b[A\u001b[A\u001b[A\u001b[A\u001b[A\n",
      "\n",
      "\n",
      "\n",
      "\n",
      "Downloading [model.safetensors]:  59%|████   | 843M/1.40G [00:06<00:04, 141MB/s]\u001b[A\u001b[A\u001b[A\u001b[A\u001b[A\n",
      "\n",
      "\n",
      "\n",
      "\n",
      "Downloading [model.safetensors]:  60%|████▏  | 857M/1.40G [00:06<00:04, 131MB/s]\u001b[A\u001b[A\u001b[A\u001b[A\u001b[A\n",
      "\n",
      "\n",
      "\n",
      "\n",
      "Downloading [model.safetensors]:  61%|████▏  | 870M/1.40G [00:06<00:04, 124MB/s]\u001b[A\u001b[A\u001b[A\u001b[A\u001b[A\n",
      "\n",
      "\n",
      "\n",
      "\n",
      "Downloading [model.safetensors]:  62%|████▎  | 882M/1.40G [00:06<00:04, 122MB/s]\u001b[A\u001b[A\u001b[A\u001b[A\u001b[A\n",
      "\n",
      "\n",
      "\n",
      "\n",
      "Downloading [model.safetensors]:  62%|████▎  | 895M/1.40G [00:06<00:04, 126MB/s]\u001b[A\u001b[A\u001b[A\u001b[A\u001b[A\n",
      "\n",
      "\n",
      "\n",
      "\n",
      "Downloading [model.safetensors]:  63%|████▍  | 908M/1.40G [00:06<00:04, 129MB/s]\u001b[A\u001b[A\u001b[A\u001b[A\u001b[A\n",
      "\n",
      "\n",
      "\n",
      "\n",
      "Downloading [model.safetensors]:  64%|████▌  | 922M/1.40G [00:07<00:04, 131MB/s]\u001b[A\u001b[A\u001b[A\u001b[A\u001b[A\n",
      "\n",
      "\n",
      "\n",
      "\n",
      "Downloading [model.safetensors]:  65%|████▌  | 936M/1.40G [00:07<00:03, 133MB/s]\u001b[A\u001b[A\u001b[A\u001b[A\u001b[A\n",
      "\n",
      "\n",
      "\n",
      "\n",
      "Downloading [model.safetensors]:  66%|████▋  | 950M/1.40G [00:07<00:03, 134MB/s]\u001b[A\u001b[A\u001b[A\u001b[A\u001b[A\n",
      "\n",
      "\n",
      "\n",
      "\n",
      "Downloading [model.safetensors]:  67%|████▋  | 964M/1.40G [00:07<00:03, 137MB/s]\u001b[A\u001b[A\u001b[A\u001b[A\u001b[A\n",
      "\n",
      "\n",
      "\n",
      "\n",
      "Downloading [model.safetensors]:  68%|████▊  | 978M/1.40G [00:07<00:03, 123MB/s]\u001b[A\u001b[A\u001b[A\u001b[A\u001b[A\n",
      "\n",
      "\n",
      "\n",
      "\n",
      "Downloading [model.safetensors]:  69%|████▊  | 991M/1.40G [00:07<00:03, 118MB/s]\u001b[A\u001b[A\u001b[A\u001b[A\u001b[A\n",
      "\n",
      "\n",
      "\n",
      "\n",
      "Downloading [model.safetensors]:  70%|████▏ | 0.98G/1.40G [00:07<00:03, 116MB/s]\u001b[A\u001b[A\u001b[A\u001b[A\u001b[A\n",
      "\n",
      "\n",
      "\n",
      "\n",
      "Downloading [model.safetensors]:  71%|████▎ | 0.99G/1.40G [00:07<00:03, 121MB/s]\u001b[A\u001b[A\u001b[A\u001b[A\u001b[A\n",
      "\n",
      "\n",
      "\n",
      "\n",
      "Downloading [model.safetensors]:  72%|████▎ | 1.00G/1.40G [00:08<00:03, 125MB/s]\u001b[A\u001b[A\u001b[A\u001b[A\u001b[A\n",
      "\n",
      "\n",
      "\n",
      "\n",
      "Downloading [model.safetensors]:  73%|████▎ | 1.02G/1.40G [00:08<00:03, 126MB/s]\u001b[A\u001b[A\u001b[A\u001b[A\u001b[A\n",
      "\n",
      "\n",
      "\n",
      "\n",
      "Downloading [model.safetensors]:  74%|████▍ | 1.03G/1.40G [00:08<00:03, 130MB/s]\u001b[A\u001b[A\u001b[A\u001b[A\u001b[A\n",
      "\n",
      "\n",
      "\n",
      "\n",
      "Downloading [model.safetensors]:  75%|████▍ | 1.04G/1.40G [00:08<00:02, 132MB/s]\u001b[A\u001b[A\u001b[A\u001b[A\u001b[A\n",
      "\n",
      "\n",
      "\n",
      "\n",
      "Downloading [model.safetensors]:  76%|████▌ | 1.06G/1.40G [00:08<00:02, 134MB/s]\u001b[A\u001b[A\u001b[A\u001b[A\u001b[A\n",
      "\n",
      "\n",
      "\n",
      "\n",
      "Downloading [model.safetensors]:  77%|████▌ | 1.07G/1.40G [00:08<00:02, 137MB/s]\u001b[A\u001b[A\u001b[A\u001b[A\u001b[A\n",
      "\n",
      "\n",
      "\n",
      "\n",
      "Downloading [model.safetensors]:  78%|████▋ | 1.09G/1.40G [00:08<00:02, 141MB/s]\u001b[A\u001b[A\u001b[A\u001b[A\u001b[A\n",
      "\n",
      "\n",
      "\n",
      "\n",
      "Downloading [model.safetensors]:  79%|████▋ | 1.10G/1.40G [00:08<00:02, 129MB/s]\u001b[A\u001b[A\u001b[A\u001b[A\u001b[A\n",
      "\n",
      "\n",
      "\n",
      "\n",
      "Downloading [model.safetensors]:  80%|████▊ | 1.11G/1.40G [00:08<00:02, 123MB/s]\u001b[A\u001b[A\u001b[A\u001b[A\u001b[A\n",
      "\n",
      "\n",
      "\n",
      "\n",
      "Downloading [model.safetensors]:  80%|████▊ | 1.13G/1.40G [00:09<00:02, 124MB/s]\u001b[A\u001b[A\u001b[A\u001b[A\u001b[A\n",
      "\n",
      "\n",
      "\n",
      "\n",
      "Downloading [model.safetensors]:  81%|████▉ | 1.14G/1.40G [00:09<00:02, 128MB/s]\u001b[A\u001b[A\u001b[A\u001b[A\u001b[A\n",
      "\n",
      "\n",
      "\n",
      "\n",
      "Downloading [model.safetensors]:  82%|████▉ | 1.15G/1.40G [00:09<00:02, 131MB/s]\u001b[A\u001b[A\u001b[A\u001b[A\u001b[A\n",
      "\n",
      "\n",
      "\n",
      "\n",
      "Downloading [model.safetensors]:  83%|█████ | 1.17G/1.40G [00:09<00:01, 133MB/s]\u001b[A\u001b[A\u001b[A\u001b[A\u001b[A\n",
      "\n",
      "\n",
      "\n",
      "\n",
      "Downloading [model.safetensors]:  84%|█████ | 1.18G/1.40G [00:09<00:01, 133MB/s]\u001b[A\u001b[A\u001b[A\u001b[A\u001b[A\n",
      "\n",
      "\n",
      "\n",
      "\n",
      "Downloading [model.safetensors]:  85%|█████ | 1.19G/1.40G [00:09<00:01, 137MB/s]\u001b[A\u001b[A\u001b[A\u001b[A\u001b[A\n",
      "\n",
      "\n",
      "\n",
      "\n",
      "Downloading [model.safetensors]:  86%|█████▏| 1.21G/1.40G [00:09<00:01, 129MB/s]\u001b[A\u001b[A\u001b[A\u001b[A\u001b[A\n",
      "\n",
      "\n",
      "\n",
      "\n",
      "Downloading [model.safetensors]:  87%|█████▏| 1.22G/1.40G [00:09<00:01, 122MB/s]\u001b[A\u001b[A\u001b[A\u001b[A\u001b[A\n",
      "\n",
      "\n",
      "\n",
      "\n",
      "Downloading [model.safetensors]:  88%|█████▎| 1.23G/1.40G [00:09<00:01, 119MB/s]\u001b[A\u001b[A\u001b[A\u001b[A\u001b[A\n",
      "\n",
      "\n",
      "\n",
      "\n",
      "Downloading [model.safetensors]:  89%|█████▎| 1.24G/1.40G [00:10<00:01, 120MB/s]\u001b[A\u001b[A\u001b[A\u001b[A\u001b[A\n",
      "\n",
      "\n",
      "\n",
      "\n",
      "Downloading [model.safetensors]:  90%|█████▍| 1.26G/1.40G [00:10<00:01, 124MB/s]\u001b[A\u001b[A\u001b[A\u001b[A\u001b[A\n",
      "\n",
      "\n",
      "\n",
      "\n",
      "Downloading [model.safetensors]:  91%|█████▍| 1.27G/1.40G [00:10<00:01, 127MB/s]\u001b[A\u001b[A\u001b[A\u001b[A\u001b[A\n",
      "\n",
      "\n",
      "\n",
      "\n",
      "Downloading [model.safetensors]:  92%|█████▍| 1.28G/1.40G [00:10<00:00, 130MB/s]\u001b[A\u001b[A\u001b[A\u001b[A\u001b[A\n",
      "\n",
      "\n",
      "\n",
      "\n",
      "Downloading [model.safetensors]:  93%|█████▌| 1.30G/1.40G [00:10<00:00, 133MB/s]\u001b[A\u001b[A\u001b[A\u001b[A\u001b[A\n",
      "\n",
      "\n",
      "\n",
      "\n",
      "Downloading [model.safetensors]:  94%|█████▌| 1.31G/1.40G [00:10<00:00, 136MB/s]\u001b[A\u001b[A\u001b[A\u001b[A\u001b[A\n",
      "\n",
      "\n",
      "\n",
      "\n",
      "Downloading [model.safetensors]:  95%|█████▋| 1.32G/1.40G [00:10<00:00, 140MB/s]\u001b[A\u001b[A\u001b[A\u001b[A\u001b[A\n",
      "\n",
      "\n",
      "\n",
      "\n",
      "Downloading [model.safetensors]:  96%|█████▋| 1.34G/1.40G [00:10<00:00, 137MB/s]\u001b[A\u001b[A\u001b[A\u001b[A\u001b[A\n",
      "\n",
      "\n",
      "\n",
      "\n",
      "Downloading [model.safetensors]:  97%|█████▊| 1.35G/1.40G [00:10<00:00, 127MB/s]\u001b[A\u001b[A\u001b[A\u001b[A\u001b[A\n",
      "\n",
      "\n",
      "\n",
      "\n",
      "Downloading [model.safetensors]:  97%|█████▊| 1.36G/1.40G [00:10<00:00, 121MB/s]\u001b[A\u001b[A\u001b[A\u001b[A\u001b[A\n",
      "\n",
      "\n",
      "\n",
      "\n",
      "Downloading [model.safetensors]:  98%|█████▉| 1.38G/1.40G [00:11<00:00, 121MB/s]\u001b[A\u001b[A\u001b[A\u001b[A\u001b[A\n",
      "\n",
      "\n",
      "\n",
      "\n",
      "Downloading [model.safetensors]: 100%|██████| 1.40G/1.40G [00:11<00:00, 133MB/s]\u001b[A\u001b[A\u001b[A\u001b[A\u001b[A\n",
      "Processing 9 items: 100%|████████████████████| 9.00/9.00 [00:11<00:00, 1.26s/it]\n",
      "\n",
      "Successfully Downloaded from model Qwen/Qwen3-0.6B.\n",
      "\n"
     ]
    }
   ],
   "source": [
    "!modelscope download --model Qwen/Qwen3-0.6B --local_dir ./models/Qwen3-0.6B"
   ]
  },
  {
   "cell_type": "markdown",
   "id": "51869d43-f7c3-428e-907b-20b1d4aedcfc",
   "metadata": {},
   "source": [
    "### 使用 modelscope sdk 下载模型"
   ]
  },
  {
   "cell_type": "code",
   "execution_count": 5,
   "id": "ab46077a-4c48-4104-94da-614a30e0bc70",
   "metadata": {
    "execution": {
     "iopub.execute_input": "2025-06-25T15:09:29.973699Z",
     "iopub.status.busy": "2025-06-25T15:09:29.973321Z",
     "iopub.status.idle": "2025-06-25T15:09:44.922025Z",
     "shell.execute_reply": "2025-06-25T15:09:44.921516Z",
     "shell.execute_reply.started": "2025-06-25T15:09:29.973671Z"
    }
   },
   "outputs": [
    {
     "name": "stdout",
     "output_type": "stream",
     "text": [
      "Downloading Model from https://www.modelscope.cn to directory: /mnt/workspace/.cache/modelscope/models/Qwen/Qwen3-0.6B\n"
     ]
    },
    {
     "name": "stderr",
     "output_type": "stream",
     "text": [
      "2025-06-25 23:09:32,263 - modelscope - INFO - Got 9 files, start to download ...\n"
     ]
    },
    {
     "data": {
      "application/vnd.jupyter.widget-view+json": {
       "model_id": "55b7153df21b4b68a65cb82ca2e11808",
       "version_major": 2,
       "version_minor": 0
      },
      "text/plain": [
       "Processing 9 items:   0%|          | 0.00/9.00 [00:00<?, ?it/s]"
      ]
     },
     "metadata": {},
     "output_type": "display_data"
    },
    {
     "data": {
      "application/vnd.jupyter.widget-view+json": {
       "model_id": "3e67233a8066454d90d6f2f232041ad9",
       "version_major": 2,
       "version_minor": 0
      },
      "text/plain": [
       "Downloading [config.json]:   0%|          | 0.00/726 [00:00<?, ?B/s]"
      ]
     },
     "metadata": {},
     "output_type": "display_data"
    },
    {
     "data": {
      "application/vnd.jupyter.widget-view+json": {
       "model_id": "514390d1a15c40e3b7832fb64caa8852",
       "version_major": 2,
       "version_minor": 0
      },
      "text/plain": [
       "Downloading [tokenizer.json]:   0%|          | 0.00/10.9M [00:00<?, ?B/s]"
      ]
     },
     "metadata": {},
     "output_type": "display_data"
    },
    {
     "data": {
      "application/vnd.jupyter.widget-view+json": {
       "model_id": "f80474ef3a0446bb803467ee7d652cb4",
       "version_major": 2,
       "version_minor": 0
      },
      "text/plain": [
       "Downloading [generation_config.json]:   0%|          | 0.00/239 [00:00<?, ?B/s]"
      ]
     },
     "metadata": {},
     "output_type": "display_data"
    },
    {
     "data": {
      "application/vnd.jupyter.widget-view+json": {
       "model_id": "9a1acfabb82e4640aa624e53c35fd59c",
       "version_major": 2,
       "version_minor": 0
      },
      "text/plain": [
       "Downloading [model.safetensors]:   0%|          | 0.00/1.40G [00:00<?, ?B/s]"
      ]
     },
     "metadata": {},
     "output_type": "display_data"
    },
    {
     "data": {
      "application/vnd.jupyter.widget-view+json": {
       "model_id": "8132259bdc5742139f634147a9181d51",
       "version_major": 2,
       "version_minor": 0
      },
      "text/plain": [
       "Downloading [README.md]:   0%|          | 0.00/13.6k [00:00<?, ?B/s]"
      ]
     },
     "metadata": {},
     "output_type": "display_data"
    },
    {
     "data": {
      "application/vnd.jupyter.widget-view+json": {
       "model_id": "efb73b40e5524991bdd64013b56d423e",
       "version_major": 2,
       "version_minor": 0
      },
      "text/plain": [
       "Downloading [configuration.json]:   0%|          | 0.00/73.0 [00:00<?, ?B/s]"
      ]
     },
     "metadata": {},
     "output_type": "display_data"
    },
    {
     "data": {
      "application/vnd.jupyter.widget-view+json": {
       "model_id": "fa0edebdda3542af9eac67377b2f3ae6",
       "version_major": 2,
       "version_minor": 0
      },
      "text/plain": [
       "Downloading [tokenizer_config.json]:   0%|          | 0.00/9.50k [00:00<?, ?B/s]"
      ]
     },
     "metadata": {},
     "output_type": "display_data"
    },
    {
     "data": {
      "application/vnd.jupyter.widget-view+json": {
       "model_id": "4a90c007e7504177b6b10a302a2bdd4e",
       "version_major": 2,
       "version_minor": 0
      },
      "text/plain": [
       "Downloading [merges.txt]:   0%|          | 0.00/1.59M [00:00<?, ?B/s]"
      ]
     },
     "metadata": {},
     "output_type": "display_data"
    },
    {
     "data": {
      "application/vnd.jupyter.widget-view+json": {
       "model_id": "d7595f00c7c04047a8d02a7e9e5593a7",
       "version_major": 2,
       "version_minor": 0
      },
      "text/plain": [
       "Downloading [vocab.json]:   0%|          | 0.00/2.65M [00:00<?, ?B/s]"
      ]
     },
     "metadata": {},
     "output_type": "display_data"
    },
    {
     "name": "stderr",
     "output_type": "stream",
     "text": [
      "2025-06-25 23:09:44,903 - modelscope - INFO - Download model 'Qwen/Qwen3-0.6B' successfully.\n",
      "2025-06-25 23:09:44,907 - modelscope - INFO - Creating symbolic link [/mnt/workspace/.cache/modelscope/models/Qwen/Qwen3-0.6B].\n"
     ]
    }
   ],
   "source": [
    "from modelscope import snapshot_download\n",
    "model_dir = snapshot_download(\"Qwen/Qwen3-0.6B\")"
   ]
  },
  {
   "cell_type": "markdown",
   "id": "fd9ce3c4-7795-47a8-babf-bc3db6029e86",
   "metadata": {},
   "source": [
    "### 安装 git lfs 下载模型"
   ]
  },
  {
   "cell_type": "code",
   "execution_count": 6,
   "id": "86d86f52-078c-4eee-9e36-7191a1598894",
   "metadata": {
    "execution": {
     "iopub.execute_input": "2025-06-25T15:10:59.623379Z",
     "iopub.status.busy": "2025-06-25T15:10:59.623055Z",
     "iopub.status.idle": "2025-06-25T15:10:59.835760Z",
     "shell.execute_reply": "2025-06-25T15:10:59.834760Z",
     "shell.execute_reply.started": "2025-06-25T15:10:59.623358Z"
    }
   },
   "outputs": [
    {
     "name": "stdout",
     "output_type": "stream",
     "text": [
      "Git LFS initialized.\n"
     ]
    }
   ],
   "source": [
    "!git lfs install"
   ]
  },
  {
   "cell_type": "code",
   "execution_count": 7,
   "id": "f399bafb-a4ac-486d-91a9-2e68aca64260",
   "metadata": {
    "execution": {
     "iopub.execute_input": "2025-06-25T15:12:11.750215Z",
     "iopub.status.busy": "2025-06-25T15:12:11.749854Z",
     "iopub.status.idle": "2025-06-25T15:13:02.290191Z",
     "shell.execute_reply": "2025-06-25T15:13:02.289532Z",
     "shell.execute_reply.started": "2025-06-25T15:12:11.750189Z"
    }
   },
   "outputs": [
    {
     "name": "stdout",
     "output_type": "stream",
     "text": [
      "正克隆到 'Qwen3-Embedding-0.6B'...\n",
      "remote: Enumerating objects: 58, done.\u001b[K\n",
      "remote: Counting objects: 100% (58/58), done.\u001b[K\n",
      "remote: Compressing objects: 100% (46/46), done.\u001b[K\n",
      "remote: Total 58 (delta 22), reused 39 (delta 10), pack-reused 0\u001b[K\n",
      "接收对象中: 100% (58/58), 1.73 MiB | 610.00 KiB/s, 完成.\n",
      "处理 delta 中: 100% (22/22), 完成.\n",
      "过滤内容: 100% (2/2), 1.12 GiB | 25.44 MiB/s, 完成.\n"
     ]
    }
   ],
   "source": [
    "!git clone https://www.modelscope.cn/Qwen/Qwen3-Embedding-0.6B.git"
   ]
  },
  {
   "cell_type": "markdown",
   "id": "8957688f-30c4-4b13-bcf8-96ab01a779f9",
   "metadata": {},
   "source": [
    "### 安装 transformers"
   ]
  },
  {
   "cell_type": "code",
   "execution_count": 8,
   "id": "d07a0662-f2cc-47f0-8e39-6518280ee37a",
   "metadata": {
    "execution": {
     "iopub.execute_input": "2025-06-25T15:14:03.880801Z",
     "iopub.status.busy": "2025-06-25T15:14:03.880520Z",
     "iopub.status.idle": "2025-06-25T15:14:09.756737Z",
     "shell.execute_reply": "2025-06-25T15:14:09.755779Z",
     "shell.execute_reply.started": "2025-06-25T15:14:03.880777Z"
    }
   },
   "outputs": [
    {
     "name": "stdout",
     "output_type": "stream",
     "text": [
      "Looking in indexes: https://mirrors.cloud.aliyuncs.com/pypi/simple\n",
      "Requirement already satisfied: transformers in /usr/local/lib/python3.11/site-packages (4.52.4)\n",
      "Requirement already satisfied: filelock in /usr/local/lib/python3.11/site-packages (from transformers) (3.17.0)\n",
      "Requirement already satisfied: huggingface-hub<1.0,>=0.30.0 in /usr/local/lib/python3.11/site-packages (from transformers) (0.32.6)\n",
      "Requirement already satisfied: numpy>=1.17 in /usr/local/lib/python3.11/site-packages (from transformers) (1.26.4)\n",
      "Requirement already satisfied: packaging>=20.0 in /usr/local/lib/python3.11/site-packages (from transformers) (24.2)\n",
      "Requirement already satisfied: pyyaml>=5.1 in /usr/local/lib/python3.11/site-packages (from transformers) (6.0.2)\n",
      "Requirement already satisfied: regex!=2019.12.17 in /usr/local/lib/python3.11/site-packages (from transformers) (2024.11.6)\n",
      "Requirement already satisfied: requests in /usr/local/lib/python3.11/site-packages (from transformers) (2.32.3)\n",
      "Requirement already satisfied: tokenizers<0.22,>=0.21 in /usr/local/lib/python3.11/site-packages (from transformers) (0.21.1)\n",
      "Requirement already satisfied: safetensors>=0.4.3 in /usr/local/lib/python3.11/site-packages (from transformers) (0.5.3)\n",
      "Requirement already satisfied: tqdm>=4.27 in /usr/local/lib/python3.11/site-packages (from transformers) (4.67.1)\n",
      "Requirement already satisfied: fsspec>=2023.5.0 in /usr/local/lib/python3.11/site-packages (from huggingface-hub<1.0,>=0.30.0->transformers) (2024.9.0)\n",
      "Requirement already satisfied: typing-extensions>=3.7.4.3 in /usr/local/lib/python3.11/site-packages (from huggingface-hub<1.0,>=0.30.0->transformers) (4.12.2)\n",
      "Requirement already satisfied: hf-xet<2.0.0,>=1.1.2 in /usr/local/lib/python3.11/site-packages (from huggingface-hub<1.0,>=0.30.0->transformers) (1.1.3)\n",
      "Requirement already satisfied: charset-normalizer<4,>=2 in /usr/local/lib/python3.11/site-packages (from requests->transformers) (3.4.1)\n",
      "Requirement already satisfied: idna<4,>=2.5 in /usr/local/lib/python3.11/site-packages (from requests->transformers) (3.10)\n",
      "Requirement already satisfied: urllib3<3,>=1.21.1 in /usr/local/lib/python3.11/site-packages (from requests->transformers) (2.3.0)\n",
      "Requirement already satisfied: certifi>=2017.4.17 in /usr/local/lib/python3.11/site-packages (from requests->transformers) (2025.1.31)\n",
      "\u001b[33mDEPRECATION: pytorch-lightning 1.7.7 has a non-standard dependency specifier torch>=1.9.*. pip 24.0 will enforce this behaviour change. A possible replacement is to upgrade to a newer version of pytorch-lightning or contact the author to suggest that they release a version with a conforming dependency specifiers. Discussion can be found at https://github.com/pypa/pip/issues/12063\u001b[0m\u001b[33m\n",
      "\u001b[0m\u001b[33mWARNING: Running pip as the 'root' user can result in broken permissions and conflicting behaviour with the system package manager. It is recommended to use a virtual environment instead: https://pip.pypa.io/warnings/venv\u001b[0m\u001b[33m\n",
      "\u001b[0m\n",
      "\u001b[1m[\u001b[0m\u001b[34;49mnotice\u001b[0m\u001b[1;39;49m]\u001b[0m\u001b[39;49m A new release of pip is available: \u001b[0m\u001b[31;49m23.3.2\u001b[0m\u001b[39;49m -> \u001b[0m\u001b[32;49m25.1.1\u001b[0m\n",
      "\u001b[1m[\u001b[0m\u001b[34;49mnotice\u001b[0m\u001b[1;39;49m]\u001b[0m\u001b[39;49m To update, run: \u001b[0m\u001b[32;49mpip install --upgrade pip\u001b[0m\n"
     ]
    }
   ],
   "source": [
    "!pip install transformers"
   ]
  },
  {
   "cell_type": "markdown",
   "id": "204357f2-31be-4b6a-9655-0077b3f6c42e",
   "metadata": {},
   "source": [
    "### 使用 AutoModel 加载模型"
   ]
  },
  {
   "cell_type": "code",
   "execution_count": 17,
   "id": "8c138cbf-5875-44eb-8b90-7b0a3de5d3b9",
   "metadata": {
    "execution": {
     "iopub.execute_input": "2025-06-25T15:46:45.871452Z",
     "iopub.status.busy": "2025-06-25T15:46:45.871012Z",
     "iopub.status.idle": "2025-06-25T15:46:45.876097Z",
     "shell.execute_reply": "2025-06-25T15:46:45.875227Z",
     "shell.execute_reply.started": "2025-06-25T15:46:45.871430Z"
    }
   },
   "outputs": [],
   "source": [
    "from transformers import modeling_utils\n",
    "\n",
    "if not hasattr(modeling_utils, \"ALL_PARALLEL_STYLES\") or modeling_utils.ALL_PARALLEL_STYLES is None:\n",
    "    modeling_utils.ALL_PARALLEL_STYLES = [\"tp\", \"none\", \"colwise\", \"rowwise\"]\n"
   ]
  },
  {
   "cell_type": "code",
   "execution_count": 18,
   "id": "4537d7dd-8e3e-4aa5-825c-a645cd8d2357",
   "metadata": {
    "ExecutionIndicator": {
     "show": true
    },
    "execution": {
     "iopub.execute_input": "2025-06-25T15:46:49.152298Z",
     "iopub.status.busy": "2025-06-25T15:46:49.151973Z",
     "iopub.status.idle": "2025-06-25T15:47:26.639040Z",
     "shell.execute_reply": "2025-06-25T15:47:26.638332Z",
     "shell.execute_reply.started": "2025-06-25T15:46:49.152278Z"
    },
    "tags": []
   },
   "outputs": [
    {
     "name": "stdout",
     "output_type": "stream",
     "text": [
      "Downloading Model from https://www.modelscope.cn to directory: /mnt/workspace/.cache/modelscope/models/Qwen/Qwen3-0.6B\n"
     ]
    },
    {
     "name": "stderr",
     "output_type": "stream",
     "text": [
      "2025-06-25 23:46:49,950 - modelscope - INFO - Target directory already exists, skipping creation.\n"
     ]
    },
    {
     "name": "stdout",
     "output_type": "stream",
     "text": [
      "Downloading Model from https://www.modelscope.cn to directory: /mnt/workspace/.cache/modelscope/models/Qwen/Qwen3-0.6B\n"
     ]
    },
    {
     "name": "stderr",
     "output_type": "stream",
     "text": [
      "2025-06-25 23:46:51,309 - modelscope - INFO - Target directory already exists, skipping creation.\n"
     ]
    },
    {
     "name": "stdout",
     "output_type": "stream",
     "text": [
      "thinking content: <think>\n",
      "Okay, the user asked for a short introduction to a large language model. Let me start by recalling what I know. Large language models are AI systems that can understand and generate human language. They're trained on massive amounts of text data, so they can learn patterns and nuances.\n",
      "\n",
      "I should mention their ability to understand and generate text, maybe give an example like answering questions. Also, they're used in various fields like healthcare, customer service, and creative writing. It's important to highlight their purpose and application without getting too technical. Keep it concise but informative.\n",
      "</think>\n",
      "content: A large language model (LLM) is an AI system designed to understand and generate human language. These models are trained on vast amounts of text data, allowing them to comprehend context, nuances, and complex ideas. They can answer questions, write creative content, and assist in various tasks across different domains, making them valuable tools in fields such as healthcare, customer service, and creative writing.\n"
     ]
    }
   ],
   "source": [
    "from modelscope import AutoModelForCausalLM, AutoTokenizer\n",
    "\n",
    "model_name = \"Qwen/Qwen3-0.6B\"\n",
    "\n",
    "# load the tokenizer and the model\n",
    "tokenizer = AutoTokenizer.from_pretrained(model_name)\n",
    "model = AutoModelForCausalLM.from_pretrained(\n",
    "    model_name,\n",
    "    torch_dtype=\"auto\",\n",
    "    device_map=\"auto\"\n",
    ")\n",
    "\n",
    "# prepare the model input\n",
    "prompt = \"Give me a short introduction to large language model.\"\n",
    "messages = [\n",
    "    {\"role\": \"user\", \"content\": prompt}\n",
    "]\n",
    "text = tokenizer.apply_chat_template(\n",
    "    messages,\n",
    "    tokenize=False,\n",
    "    add_generation_prompt=True,\n",
    "    enable_thinking=True\n",
    ")\n",
    "model_inputs = tokenizer([text], return_tensors=\"pt\").to(model.device)\n",
    "\n",
    "# conduct text completion\n",
    "generated_ids = model.generate(\n",
    "    **model_inputs,\n",
    "    max_new_tokens=32768\n",
    ")\n",
    "output_ids = generated_ids[0][len(model_inputs.input_ids[0]):].tolist() \n",
    "\n",
    "# parsing thinking content\n",
    "try:\n",
    "    # rindex finding 151668 (</think>)\n",
    "    index = len(output_ids) - output_ids[::-1].index(151668)\n",
    "except ValueError:\n",
    "    index = 0\n",
    "\n",
    "thinking_content = tokenizer.decode(output_ids[:index], skip_special_tokens=True).strip(\"\\n\")\n",
    "content = tokenizer.decode(output_ids[index:], skip_special_tokens=True).strip(\"\\n\")\n",
    "\n",
    "print(\"thinking content:\", thinking_content)\n",
    "print(\"content:\", content)"
   ]
  },
  {
   "cell_type": "markdown",
   "id": "0e56d473-1768-4e37-a9fa-e46864f38ace",
   "metadata": {},
   "source": [
    "### 使用 pipeline 使用模型"
   ]
  },
  {
   "cell_type": "code",
   "execution_count": 21,
   "id": "5f5326b1-bce8-41dc-8874-20902af01e63",
   "metadata": {
    "ExecutionIndicator": {
     "show": true
    },
    "execution": {
     "iopub.execute_input": "2025-06-25T15:55:39.081151Z",
     "iopub.status.busy": "2025-06-25T15:55:39.080576Z",
     "iopub.status.idle": "2025-06-25T15:55:54.637838Z",
     "shell.execute_reply": "2025-06-25T15:55:54.637153Z",
     "shell.execute_reply.started": "2025-06-25T15:55:39.081128Z"
    },
    "tags": []
   },
   "outputs": [
    {
     "name": "stderr",
     "output_type": "stream",
     "text": [
      "[INFO:swift.hub.hub] Downloading the model from ModelScope Hub, model_id: Qwen/Qwen3-0.6B\n"
     ]
    },
    {
     "name": "stdout",
     "output_type": "stream",
     "text": [
      "Downloading Model from https://www.modelscope.cn to directory: /mnt/workspace/.cache/modelscope/models/Qwen/Qwen3-0.6B\n"
     ]
    },
    {
     "name": "stderr",
     "output_type": "stream",
     "text": [
      "[INFO:modelscope] Target directory already exists, skipping creation.\n",
      "[INFO:swift] Loading the model using model_dir: /mnt/workspace/.cache/modelscope/models/Qwen/Qwen3-0___6B\n",
      "[INFO:swift] Setting torch_dtype: torch.bfloat16\n",
      "[INFO:swift] rank: -1, local_rank: -1, world_size: 1, local_world_size: 1\n",
      "[INFO:swift.hub.hub] Downloading the model from ModelScope Hub, model_id: Qwen/Qwen3-0.6B\n"
     ]
    },
    {
     "name": "stdout",
     "output_type": "stream",
     "text": [
      "Downloading Model from https://www.modelscope.cn to directory: /mnt/workspace/.cache/modelscope/models/Qwen/Qwen3-0.6B\n"
     ]
    },
    {
     "name": "stderr",
     "output_type": "stream",
     "text": [
      "[INFO:modelscope] Target directory already exists, skipping creation.\n",
      "[INFO:swift] Loading the model using model_dir: /mnt/workspace/.cache/modelscope/models/Qwen/Qwen3-0___6B\n",
      "[INFO:swift] Setting torch_dtype: torch.bfloat16\n",
      "[INFO:swift] args.result_path: /mnt/workspace/notebooks/result/Qwen3-0.6B/infer_result/20250625-235542.jsonl\n",
      "[INFO:swift] Setting args.eval_human: True\n",
      "[INFO:swift.hub.hub] Downloading the model from ModelScope Hub, model_id: Qwen/Qwen3-0.6B\n"
     ]
    },
    {
     "name": "stdout",
     "output_type": "stream",
     "text": [
      "Downloading Model from https://www.modelscope.cn to directory: /mnt/workspace/.cache/modelscope/models/Qwen/Qwen3-0.6B\n"
     ]
    },
    {
     "name": "stderr",
     "output_type": "stream",
     "text": [
      "[INFO:modelscope] Target directory already exists, skipping creation.\n",
      "[INFO:swift] Loading the model using model_dir: /mnt/workspace/.cache/modelscope/models/Qwen/Qwen3-0___6B\n",
      "[INFO:swift] model_kwargs: {'device_map': 'cpu'}\n",
      "[INFO:swift] default_system: None\n",
      "[INFO:swift] response_prefix: ''\n",
      "[INFO:swift] agent_template: hermes\n",
      "[INFO:swift] max_length: 40960\n",
      "[INFO:swift] norm_bbox: norm1000\n",
      "[INFO:modelscope] cuda is not available, using cpu instead.\n"
     ]
    }
   ],
   "source": [
    "from modelscope.pipelines import pipeline\n",
    "text_generation = pipeline('text-generation',model='Qwen/Qwen3-0.6B')"
   ]
  },
  {
   "cell_type": "markdown",
   "id": "1832c492-15f8-4df7-b651-da49b76cbf2a",
   "metadata": {},
   "source": [
    "### pipeline 是处理任务最简单的方式\n",
    "modelscope 原生支持 pipeline，兼容 transformers 的 pipeline"
   ]
  },
  {
   "cell_type": "code",
   "execution_count": 22,
   "id": "b6e3c82e-0845-410e-ad5a-0e0894008f47",
   "metadata": {
    "execution": {
     "iopub.execute_input": "2025-06-25T15:59:47.786047Z",
     "iopub.status.busy": "2025-06-25T15:59:47.785707Z",
     "iopub.status.idle": "2025-06-25T16:01:04.037811Z",
     "shell.execute_reply": "2025-06-25T16:01:04.037279Z",
     "shell.execute_reply.started": "2025-06-25T15:59:47.786026Z"
    }
   },
   "outputs": [
    {
     "name": "stderr",
     "output_type": "stream",
     "text": [
      "[INFO:modelscope] Use user-specified model revision: v2.0.4\n"
     ]
    },
    {
     "data": {
      "application/vnd.jupyter.widget-view+json": {
       "model_id": "4bdac11b185d47269d7a345b84dcbbb4",
       "version_major": 2,
       "version_minor": 0
      },
      "text/plain": [
       "Downloading [configuration.json]:   0%|          | 0.00/693 [00:00<?, ?B/s]"
      ]
     },
     "metadata": {},
     "output_type": "display_data"
    },
    {
     "name": "stdout",
     "output_type": "stream",
     "text": [
      "Downloading Model from https://www.modelscope.cn to directory: /mnt/workspace/.cache/modelscope/models/iic/speech_paraformer-large-vad-punc_asr_nat-zh-cn-16k-common-vocab8404-pytorch\n"
     ]
    },
    {
     "name": "stderr",
     "output_type": "stream",
     "text": [
      "[INFO:modelscope] Use user-specified model revision: v2.0.4\n",
      "[INFO:modelscope] Got 9 files, start to download ...\n"
     ]
    },
    {
     "data": {
      "application/vnd.jupyter.widget-view+json": {
       "model_id": "9ea5898147404dabae0d6cc5b566936a",
       "version_major": 2,
       "version_minor": 0
      },
      "text/plain": [
       "Processing 9 items:   0%|          | 0.00/9.00 [00:00<?, ?it/s]"
      ]
     },
     "metadata": {},
     "output_type": "display_data"
    },
    {
     "data": {
      "application/vnd.jupyter.widget-view+json": {
       "model_id": "753ad6359f8a4958b17aea04589def2f",
       "version_major": 2,
       "version_minor": 0
      },
      "text/plain": [
       "Downloading [example/asr_example.wav]:   0%|          | 0.00/408k [00:00<?, ?B/s]"
      ]
     },
     "metadata": {},
     "output_type": "display_data"
    },
    {
     "data": {
      "application/vnd.jupyter.widget-view+json": {
       "model_id": "d6ca9e08045a4a3baffba81b4cd22e9c",
       "version_major": 2,
       "version_minor": 0
      },
      "text/plain": [
       "Downloading [.DS_Store]:   0%|          | 0.00/6.00k [00:00<?, ?B/s]"
      ]
     },
     "metadata": {},
     "output_type": "display_data"
    },
    {
     "data": {
      "application/vnd.jupyter.widget-view+json": {
       "model_id": "7a3cff59ed674f288a0160c71aa95dfc",
       "version_major": 2,
       "version_minor": 0
      },
      "text/plain": [
       "Downloading [seg_dict]:   0%|          | 0.00/7.90M [00:00<?, ?B/s]"
      ]
     },
     "metadata": {},
     "output_type": "display_data"
    },
    {
     "data": {
      "application/vnd.jupyter.widget-view+json": {
       "model_id": "5856bde5103e4bee83821d2453518b18",
       "version_major": 2,
       "version_minor": 0
      },
      "text/plain": [
       "Downloading [README.md]:   0%|          | 0.00/19.2k [00:00<?, ?B/s]"
      ]
     },
     "metadata": {},
     "output_type": "display_data"
    },
    {
     "data": {
      "application/vnd.jupyter.widget-view+json": {
       "model_id": "2b3c9d0aca424b7a9dbd615eae1db053",
       "version_major": 2,
       "version_minor": 0
      },
      "text/plain": [
       "Downloading [config.yaml]:   0%|          | 0.00/2.83k [00:00<?, ?B/s]"
      ]
     },
     "metadata": {},
     "output_type": "display_data"
    },
    {
     "data": {
      "application/vnd.jupyter.widget-view+json": {
       "model_id": "dc226e06607844c385a99b1c394e500c",
       "version_major": 2,
       "version_minor": 0
      },
      "text/plain": [
       "Downloading [model.pt]:   0%|          | 0.00/859M [00:00<?, ?B/s]"
      ]
     },
     "metadata": {},
     "output_type": "display_data"
    },
    {
     "data": {
      "application/vnd.jupyter.widget-view+json": {
       "model_id": "6be99c76d22a40cea924f27742004aa7",
       "version_major": 2,
       "version_minor": 0
      },
      "text/plain": [
       "Downloading [am.mvn]:   0%|          | 0.00/10.9k [00:00<?, ?B/s]"
      ]
     },
     "metadata": {},
     "output_type": "display_data"
    },
    {
     "data": {
      "application/vnd.jupyter.widget-view+json": {
       "model_id": "54a0025e20ce4f38bdf692be2e05b1e1",
       "version_major": 2,
       "version_minor": 0
      },
      "text/plain": [
       "Downloading [fig/struct.png]:   0%|          | 0.00/48.7k [00:00<?, ?B/s]"
      ]
     },
     "metadata": {},
     "output_type": "display_data"
    },
    {
     "data": {
      "application/vnd.jupyter.widget-view+json": {
       "model_id": "caa9d8ed2f4942f7a48710e969c7f82f",
       "version_major": 2,
       "version_minor": 0
      },
      "text/plain": [
       "Downloading [tokens.json]:   0%|          | 0.00/91.5k [00:00<?, ?B/s]"
      ]
     },
     "metadata": {},
     "output_type": "display_data"
    },
    {
     "name": "stderr",
     "output_type": "stream",
     "text": [
      "[INFO:modelscope] Download model 'iic/speech_paraformer-large-vad-punc_asr_nat-zh-cn-16k-common-vocab8404-pytorch' successfully.\n",
      "[INFO:modelscope] initiate model from /mnt/workspace/.cache/modelscope/models/iic/speech_paraformer-large-vad-punc_asr_nat-zh-cn-16k-common-vocab8404-pytorch\n",
      "[INFO:modelscope] initiate model from location /mnt/workspace/.cache/modelscope/models/iic/speech_paraformer-large-vad-punc_asr_nat-zh-cn-16k-common-vocab8404-pytorch.\n",
      "[INFO:modelscope] initialize model from /mnt/workspace/.cache/modelscope/models/iic/speech_paraformer-large-vad-punc_asr_nat-zh-cn-16k-common-vocab8404-pytorch\n"
     ]
    },
    {
     "name": "stdout",
     "output_type": "stream",
     "text": [
      "funasr version: 1.2.6.\n",
      "Check update of funasr, and it would cost few times. You may disable it by set `disable_update=True` in AutoModel\n",
      "You are using the latest version of funasr-1.2.6\n",
      "Downloading Model from https://www.modelscope.cn to directory: /mnt/workspace/.cache/modelscope/models/iic/speech_fsmn_vad_zh-cn-16k-common-pytorch\n"
     ]
    },
    {
     "name": "stderr",
     "output_type": "stream",
     "text": [
      "[WARNING:modelscope] Model revision not specified, use revision: v2.0.4\n",
      "[INFO:modelscope] Got 7 files, start to download ...\n"
     ]
    },
    {
     "data": {
      "application/vnd.jupyter.widget-view+json": {
       "model_id": "287211015ec74161bc5c1e9ecd0100c1",
       "version_major": 2,
       "version_minor": 0
      },
      "text/plain": [
       "Processing 7 items:   0%|          | 0.00/7.00 [00:00<?, ?it/s]"
      ]
     },
     "metadata": {},
     "output_type": "display_data"
    },
    {
     "data": {
      "application/vnd.jupyter.widget-view+json": {
       "model_id": "1f8ce27434e64759b7b62ace834a1ec0",
       "version_major": 2,
       "version_minor": 0
      },
      "text/plain": [
       "Downloading [config.yaml]:   0%|          | 0.00/1.19k [00:00<?, ?B/s]"
      ]
     },
     "metadata": {},
     "output_type": "display_data"
    },
    {
     "data": {
      "application/vnd.jupyter.widget-view+json": {
       "model_id": "b84db9e3c20a4aef92f9e177a65e2883",
       "version_major": 2,
       "version_minor": 0
      },
      "text/plain": [
       "Downloading [README.md]:   0%|          | 0.00/8.45k [00:00<?, ?B/s]"
      ]
     },
     "metadata": {},
     "output_type": "display_data"
    },
    {
     "data": {
      "application/vnd.jupyter.widget-view+json": {
       "model_id": "53c9f260838842feb01bcda1d8526113",
       "version_major": 2,
       "version_minor": 0
      },
      "text/plain": [
       "Downloading [configuration.json]:   0%|          | 0.00/365 [00:00<?, ?B/s]"
      ]
     },
     "metadata": {},
     "output_type": "display_data"
    },
    {
     "data": {
      "application/vnd.jupyter.widget-view+json": {
       "model_id": "c0fdf6c5d6094389beff00c5e2b54c68",
       "version_major": 2,
       "version_minor": 0
      },
      "text/plain": [
       "Downloading [model.pt]:   0%|          | 0.00/1.64M [00:00<?, ?B/s]"
      ]
     },
     "metadata": {},
     "output_type": "display_data"
    },
    {
     "data": {
      "application/vnd.jupyter.widget-view+json": {
       "model_id": "7df655cfc6ef45da922b2243e0e32fd3",
       "version_major": 2,
       "version_minor": 0
      },
      "text/plain": [
       "Downloading [am.mvn]:   0%|          | 0.00/7.85k [00:00<?, ?B/s]"
      ]
     },
     "metadata": {},
     "output_type": "display_data"
    },
    {
     "data": {
      "application/vnd.jupyter.widget-view+json": {
       "model_id": "c0ae077a5b744b3b84af0260562a9ba3",
       "version_major": 2,
       "version_minor": 0
      },
      "text/plain": [
       "Downloading [fig/struct.png]:   0%|          | 0.00/27.3k [00:00<?, ?B/s]"
      ]
     },
     "metadata": {},
     "output_type": "display_data"
    },
    {
     "data": {
      "application/vnd.jupyter.widget-view+json": {
       "model_id": "d87731956ef94b1d99587b3a15724f8b",
       "version_major": 2,
       "version_minor": 0
      },
      "text/plain": [
       "Downloading [example/vad_example.wav]:   0%|          | 0.00/2.16M [00:00<?, ?B/s]"
      ]
     },
     "metadata": {},
     "output_type": "display_data"
    },
    {
     "name": "stderr",
     "output_type": "stream",
     "text": [
      "[INFO:modelscope] Download model 'iic/speech_fsmn_vad_zh-cn-16k-common-pytorch' successfully.\n"
     ]
    },
    {
     "name": "stdout",
     "output_type": "stream",
     "text": [
      "Downloading Model from https://www.modelscope.cn to directory: /mnt/workspace/.cache/modelscope/models/iic/punc_ct-transformer_cn-en-common-vocab471067-large\n"
     ]
    },
    {
     "name": "stderr",
     "output_type": "stream",
     "text": [
      "[WARNING:modelscope] Model revision not specified, use revision: v2.0.4\n",
      "[INFO:modelscope] Got 9 files, start to download ...\n"
     ]
    },
    {
     "data": {
      "application/vnd.jupyter.widget-view+json": {
       "model_id": "327b7d2badc14ed8b9c84f5dd42ac0de",
       "version_major": 2,
       "version_minor": 0
      },
      "text/plain": [
       "Processing 9 items:   0%|          | 0.00/9.00 [00:00<?, ?it/s]"
      ]
     },
     "metadata": {},
     "output_type": "display_data"
    },
    {
     "data": {
      "application/vnd.jupyter.widget-view+json": {
       "model_id": "45951a12f46e426cbcab31aef058b6a1",
       "version_major": 2,
       "version_minor": 0
      },
      "text/plain": [
       "Downloading [configuration.json]:   0%|          | 0.00/450 [00:00<?, ?B/s]"
      ]
     },
     "metadata": {},
     "output_type": "display_data"
    },
    {
     "data": {
      "application/vnd.jupyter.widget-view+json": {
       "model_id": "ddd47e1d26304255bde0557dbb8f22cf",
       "version_major": 2,
       "version_minor": 0
      },
      "text/plain": [
       "Downloading [fig/struct.png]:   0%|          | 0.00/151k [00:00<?, ?B/s]"
      ]
     },
     "metadata": {},
     "output_type": "display_data"
    },
    {
     "data": {
      "application/vnd.jupyter.widget-view+json": {
       "model_id": "b831ae8d3ac14631bdd5bcfea2139584",
       "version_major": 2,
       "version_minor": 0
      },
      "text/plain": [
       "Downloading [jieba.c.dict]:   0%|          | 0.00/39.6M [00:00<?, ?B/s]"
      ]
     },
     "metadata": {},
     "output_type": "display_data"
    },
    {
     "data": {
      "application/vnd.jupyter.widget-view+json": {
       "model_id": "d0eb038db7e640528fc2cbbed22233a1",
       "version_major": 2,
       "version_minor": 0
      },
      "text/plain": [
       "Downloading [config.yaml]:   0%|          | 0.00/812 [00:00<?, ?B/s]"
      ]
     },
     "metadata": {},
     "output_type": "display_data"
    },
    {
     "data": {
      "application/vnd.jupyter.widget-view+json": {
       "model_id": "9e8b72ea220040af912677583046e3f1",
       "version_major": 2,
       "version_minor": 0
      },
      "text/plain": [
       "Downloading [example/punc_example.txt]:   0%|          | 0.00/863 [00:00<?, ?B/s]"
      ]
     },
     "metadata": {},
     "output_type": "display_data"
    },
    {
     "data": {
      "application/vnd.jupyter.widget-view+json": {
       "model_id": "c0d6704ba23f4fcda59d8dfb91b25579",
       "version_major": 2,
       "version_minor": 0
      },
      "text/plain": [
       "Downloading [jieba_usr_dict]:   0%|          | 0.00/10.8M [00:00<?, ?B/s]"
      ]
     },
     "metadata": {},
     "output_type": "display_data"
    },
    {
     "data": {
      "application/vnd.jupyter.widget-view+json": {
       "model_id": "d78f18524ae2400492dd41559b5e708f",
       "version_major": 2,
       "version_minor": 0
      },
      "text/plain": [
       "Downloading [model.pt]:   0%|          | 0.00/1.05G [00:00<?, ?B/s]"
      ]
     },
     "metadata": {},
     "output_type": "display_data"
    },
    {
     "data": {
      "application/vnd.jupyter.widget-view+json": {
       "model_id": "e4052a9131054e1aa56df655b6817db5",
       "version_major": 2,
       "version_minor": 0
      },
      "text/plain": [
       "Downloading [README.md]:   0%|          | 0.00/10.6k [00:00<?, ?B/s]"
      ]
     },
     "metadata": {},
     "output_type": "display_data"
    },
    {
     "data": {
      "application/vnd.jupyter.widget-view+json": {
       "model_id": "001c9840e48c4365a9c33990e136c4ce",
       "version_major": 2,
       "version_minor": 0
      },
      "text/plain": [
       "Downloading [tokens.json]:   0%|          | 0.00/7.90M [00:00<?, ?B/s]"
      ]
     },
     "metadata": {},
     "output_type": "display_data"
    },
    {
     "name": "stderr",
     "output_type": "stream",
     "text": [
      "[INFO:modelscope] Download model 'iic/punc_ct-transformer_cn-en-common-vocab471067-large' successfully.\n",
      "Building prefix dict from the default dictionary ...\n",
      "DEBUG:jieba:Building prefix dict from the default dictionary ...\n",
      "Dumping model to file cache /tmp/jieba.cache\n",
      "DEBUG:jieba:Dumping model to file cache /tmp/jieba.cache\n",
      "Loading model cost 0.685 seconds.\n",
      "DEBUG:jieba:Loading model cost 0.685 seconds.\n",
      "Prefix dict has been built successfully.\n",
      "DEBUG:jieba:Prefix dict has been built successfully.\n",
      "[WARNING:modelscope] No preprocessor field found in cfg.\n",
      "[WARNING:modelscope] No val key and type key found in preprocessor domain of configuration.json file.\n",
      "[WARNING:modelscope] Cannot find available config to build preprocessor at mode inference, current config: {'model_dir': '/mnt/workspace/.cache/modelscope/models/iic/speech_paraformer-large-vad-punc_asr_nat-zh-cn-16k-common-vocab8404-pytorch'}. trying to build by task and model information.\n",
      "[INFO:modelscope] No preprocessor key ('funasr', 'auto-speech-recognition') found in PREPROCESSOR_MAP, skip building preprocessor. If the pipeline runs normally, please ignore this log.\n",
      "[INFO:modelscope] cuda is not available, using cpu instead.\n",
      "rtf_avg: 0.009: 100%|\u001b[34m██████████\u001b[0m| 1/1 [00:00<00:00,  8.55it/s]                                                                                          \n",
      "  0%|\u001b[31m          \u001b[0m| 0/1 [00:00<?, ?it/s]\n",
      "  0%|\u001b[34m          \u001b[0m| 0/1 [00:00<?, ?it/s]\u001b[A\n",
      "100%|\u001b[34m██████████\u001b[0m| 1/1 [00:00<00:00,  3.66it/s]\u001b[A\n",
      "{'load_data': '0.000', 'extract_feat': '0.004', 'forward': '0.274', 'batch_size': '1', 'rtf': '0.101'}, : 100%|\u001b[34m██████████\u001b[0m| 1/1 [00:00<00:00,  3.66it/s]\u001b[A\n",
      "rtf_avg: 0.101: 100%|\u001b[34m██████████\u001b[0m| 1/1 [00:00<00:00,  3.59it/s]                                                                                          \u001b[A\n",
      "\n",
      "  0%|\u001b[34m          \u001b[0m| 0/1 [00:00<?, ?it/s]\u001b[A\n",
      "100%|\u001b[34m██████████\u001b[0m| 1/1 [00:00<00:00,  2.99it/s]\u001b[A\n",
      "{'load_data': '0.000', 'extract_feat': '0.005', 'forward': '0.335', 'batch_size': '1', 'rtf': '0.072'}, : 100%|\u001b[34m██████████\u001b[0m| 1/1 [00:00<00:00,  2.99it/s]\u001b[A\n",
      "rtf_avg: 0.072: 100%|\u001b[34m██████████\u001b[0m| 1/1 [00:00<00:00,  2.95it/s]                                                                                          \u001b[A\n",
      "\n",
      "  0%|\u001b[34m          \u001b[0m| 0/1 [00:00<?, ?it/s]\u001b[A\n",
      "100%|\u001b[34m██████████\u001b[0m| 1/1 [00:00<00:00,  3.12it/s]\u001b[A\n",
      "{'load_data': '0.000', 'extract_feat': '0.004', 'forward': '0.321', 'batch_size': '1', 'rtf': '0.064'}, : 100%|\u001b[34m██████████\u001b[0m| 1/1 [00:00<00:00,  3.12it/s]\u001b[A\n",
      "rtf_avg: 0.064: 100%|\u001b[34m██████████\u001b[0m| 1/1 [00:00<00:00,  3.08it/s]                                                                                          \u001b[A\n",
      "\n",
      "  0%|\u001b[34m          \u001b[0m| 0/1 [00:00<?, ?it/s]\u001b[A\n",
      "{'load_data': 0.0, 'extract_feat': 0.0, 'forward': '0.079', 'batch_size': '1', 'rtf': '-0.079'}, : 100%|\u001b[34m██████████\u001b[0m| 1/1 [00:00<00:00, 12.52it/s]\u001b[A\n",
      "rtf_avg: -0.079: 100%|\u001b[34m██████████\u001b[0m| 1/1 [00:00<00:00, 12.22it/s]                                                                                  \u001b[A\n",
      "rtf_avg: 0.080, time_speech:  13.052, time_escape: 1.046: 100%|\u001b[31m██████████\u001b[0m| 1/1 [00:01<00:00,  1.06s/it]"
     ]
    },
    {
     "name": "stdout",
     "output_type": "stream",
     "text": [
      "[{'key': 'asr_vad_punc_example', 'text': '正是因为存在绝对正义，所以我们接受现实的相对正义。但是不要因为现实的相对正义，我们就认为这个世界没有正义。因为如果当你认为这个世界没有正义。', 'timestamp': [[430, 670], [670, 810], [810, 1030], [1030, 1130], [1130, 1330], [1330, 1510], [1510, 1670], [1670, 1810], [1810, 1970], [1970, 2210], [2250, 2390], [2390, 2490], [2490, 2570], [2570, 2710], [2710, 2950], [2970, 3210], [3310, 3550], [3570, 3730], [3730, 3830], [3830, 3970], [3970, 4150], [4150, 4270], [4270, 4535], [5290, 5470], [5470, 5610], [5610, 5710], [5710, 5910], [5910, 6070], [6070, 6230], [6230, 6470], [6470, 6650], [6650, 6750], [6750, 6950], [6950, 7130], [7130, 7250], [7250, 7490], [7490, 7590], [7590, 7710], [7710, 7910], [7910, 8070], [8070, 8290], [8290, 8430], [8430, 8550], [8550, 8710], [8710, 8950], [9050, 9290], [9370, 9550], [9550, 9790], [9790, 9965], [10600, 10760], [10760, 10900], [10900, 11120], [11120, 11300], [11300, 11400], [11400, 11580], [11580, 11700], [11700, 11800], [11800, 11920], [11920, 12020], [12020, 12160], [12160, 12320], [12320, 12440], [12440, 12560], [12560, 12740], [12740, 12915]]}]\n"
     ]
    },
    {
     "name": "stderr",
     "output_type": "stream",
     "text": [
      "\n"
     ]
    }
   ],
   "source": [
    "from modelscope.pipelines import pipeline\n",
    "from modelscope.utils.constant import Tasks\n",
    "\n",
    "inference_pipeline = pipeline(\n",
    "    task=Tasks.auto_speech_recognition,\n",
    "    model='iic/speech_paraformer-large-vad-punc_asr_nat-zh-cn-16k-common-vocab8404-pytorch',\n",
    "    model_revision=\"v2.0.4\")\n",
    "\n",
    "rec_result = inference_pipeline('https://isv-data.oss-cn-hangzhou.aliyuncs.com/ics/MaaS/ASR/test_audio/asr_vad_punc_example.wav')\n",
    "print(rec_result)"
   ]
  },
  {
   "cell_type": "markdown",
   "id": "373f95b9-179a-43a4-8751-a9ff0213f55f",
   "metadata": {},
   "source": [
    "### 模型微调\n",
    "ms-swift 是魔搭社区提供的大模型与多模态大模型微调部署框架，支持非常多的模型以及汇集了很多训练技术"
   ]
  },
  {
   "cell_type": "markdown",
   "id": "5b99edb7-3d92-46b6-a3e9-590cead1545d",
   "metadata": {},
   "source": [
    "#### 安装"
   ]
  },
  {
   "cell_type": "code",
   "execution_count": 23,
   "id": "a699c410-4b3c-4f0f-b86f-eb72c7ad529c",
   "metadata": {
    "execution": {
     "iopub.execute_input": "2025-06-25T16:06:15.662094Z",
     "iopub.status.busy": "2025-06-25T16:06:15.661357Z",
     "iopub.status.idle": "2025-06-25T16:06:25.562011Z",
     "shell.execute_reply": "2025-06-25T16:06:25.561316Z",
     "shell.execute_reply.started": "2025-06-25T16:06:15.662069Z"
    }
   },
   "outputs": [
    {
     "name": "stdout",
     "output_type": "stream",
     "text": [
      "Looking in indexes: https://mirrors.cloud.aliyuncs.com/pypi/simple\n",
      "Requirement already satisfied: ms-swift in /usr/local/lib/python3.11/site-packages (3.4.1.post1)\n",
      "Collecting ms-swift\n",
      "  Downloading https://mirrors.cloud.aliyuncs.com/pypi/packages/ba/ca/d56643173b429cd5cb77368801aee466a4ea733f2728f864c5a5659ed0fc/ms_swift-3.5.2-py3-none-any.whl (669 kB)\n",
      "\u001b[2K     \u001b[90m━━━━━━━━━━━━━━━━━━━━━━━━━━━━━━━━━━━━━━\u001b[0m \u001b[32m669.4/669.4 kB\u001b[0m \u001b[31m32.9 MB/s\u001b[0m eta \u001b[36m0:00:00\u001b[0m\n",
      "\u001b[?25hRequirement already satisfied: accelerate in /usr/local/lib/python3.11/site-packages (from ms-swift) (1.7.0)\n",
      "Requirement already satisfied: addict in /usr/local/lib/python3.11/site-packages (from ms-swift) (2.4.0)\n",
      "Requirement already satisfied: aiohttp in /usr/local/lib/python3.11/site-packages (from ms-swift) (3.12.9)\n",
      "Requirement already satisfied: attrdict in /usr/local/lib/python3.11/site-packages (from ms-swift) (2.0.1)\n",
      "Requirement already satisfied: binpacking in /usr/local/lib/python3.11/site-packages (from ms-swift) (1.5.2)\n",
      "Requirement already satisfied: charset-normalizer in /usr/local/lib/python3.11/site-packages (from ms-swift) (3.4.1)\n",
      "Requirement already satisfied: cpm-kernels in /usr/local/lib/python3.11/site-packages (from ms-swift) (1.0.11)\n",
      "Requirement already satisfied: dacite in /usr/local/lib/python3.11/site-packages (from ms-swift) (1.9.2)\n",
      "Requirement already satisfied: datasets<3.4,>=3.0 in /usr/local/lib/python3.11/site-packages (from ms-swift) (3.2.0)\n",
      "Requirement already satisfied: einops in /usr/local/lib/python3.11/site-packages (from ms-swift) (0.8.1)\n",
      "Requirement already satisfied: fastapi in /usr/local/lib/python3.11/site-packages (from ms-swift) (0.115.12)\n",
      "Requirement already satisfied: gradio>=3.40.0 in /usr/local/lib/python3.11/site-packages (from ms-swift) (5.33.1)\n",
      "Requirement already satisfied: importlib-metadata in /usr/local/lib/python3.11/site-packages (from ms-swift) (8.7.0)\n",
      "Requirement already satisfied: jieba in /usr/local/lib/python3.11/site-packages (from ms-swift) (0.42.1)\n",
      "Requirement already satisfied: matplotlib in /usr/local/lib/python3.11/site-packages (from ms-swift) (3.10.3)\n",
      "Requirement already satisfied: modelscope>=1.23 in /usr/local/lib/python3.11/site-packages (from ms-swift) (1.27.0)\n",
      "Requirement already satisfied: nltk in /usr/local/lib/python3.11/site-packages (from ms-swift) (3.9.1)\n",
      "Requirement already satisfied: numpy<2.0 in /usr/local/lib/python3.11/site-packages (from ms-swift) (1.26.4)\n",
      "Requirement already satisfied: openai in /usr/local/lib/python3.11/site-packages (from ms-swift) (1.86.0)\n",
      "Requirement already satisfied: oss2 in /usr/local/lib/python3.11/site-packages (from ms-swift) (2.19.1)\n",
      "Requirement already satisfied: pandas in /usr/local/lib/python3.11/site-packages (from ms-swift) (2.2.3)\n",
      "Requirement already satisfied: peft<0.16,>=0.11 in /usr/local/lib/python3.11/site-packages (from ms-swift) (0.15.2)\n",
      "Requirement already satisfied: pillow in /usr/local/lib/python3.11/site-packages (from ms-swift) (11.1.0)\n",
      "Requirement already satisfied: requests in /usr/local/lib/python3.11/site-packages (from ms-swift) (2.32.3)\n",
      "Requirement already satisfied: rouge in /usr/local/lib/python3.11/site-packages (from ms-swift) (1.0.1)\n",
      "Requirement already satisfied: safetensors in /usr/local/lib/python3.11/site-packages (from ms-swift) (0.5.3)\n",
      "Requirement already satisfied: scipy in /usr/local/lib/python3.11/site-packages (from ms-swift) (1.12.0)\n",
      "Requirement already satisfied: sentencepiece in /usr/local/lib/python3.11/site-packages (from ms-swift) (0.2.0)\n",
      "Requirement already satisfied: simplejson>=3.3.0 in /usr/local/lib/python3.11/site-packages (from ms-swift) (3.20.1)\n",
      "Requirement already satisfied: sortedcontainers>=1.5.9 in /usr/local/lib/python3.11/site-packages (from ms-swift) (2.4.0)\n",
      "Requirement already satisfied: tensorboard in /usr/local/lib/python3.11/site-packages (from ms-swift) (2.19.0)\n",
      "Requirement already satisfied: tiktoken in /usr/local/lib/python3.11/site-packages (from ms-swift) (0.9.0)\n",
      "Requirement already satisfied: tqdm in /usr/local/lib/python3.11/site-packages (from ms-swift) (4.67.1)\n",
      "Requirement already satisfied: transformers<4.53,>=4.33 in /usr/local/lib/python3.11/site-packages (from ms-swift) (4.52.4)\n",
      "Requirement already satisfied: transformers-stream-generator in /usr/local/lib/python3.11/site-packages (from ms-swift) (0.0.5)\n",
      "Requirement already satisfied: trl<0.20,>=0.15 in /usr/local/lib/python3.11/site-packages (from ms-swift) (0.17.0)\n",
      "Requirement already satisfied: uvicorn in /usr/local/lib/python3.11/site-packages (from ms-swift) (0.34.3)\n",
      "Requirement already satisfied: zstandard in /usr/local/lib/python3.11/site-packages (from ms-swift) (0.23.0)\n",
      "Requirement already satisfied: filelock in /usr/local/lib/python3.11/site-packages (from datasets<3.4,>=3.0->ms-swift) (3.17.0)\n",
      "Requirement already satisfied: pyarrow>=15.0.0 in /usr/local/lib/python3.11/site-packages (from datasets<3.4,>=3.0->ms-swift) (20.0.0)\n",
      "Requirement already satisfied: dill<0.3.9,>=0.3.0 in /usr/local/lib/python3.11/site-packages (from datasets<3.4,>=3.0->ms-swift) (0.3.8)\n",
      "Requirement already satisfied: xxhash in /usr/local/lib/python3.11/site-packages (from datasets<3.4,>=3.0->ms-swift) (3.5.0)\n",
      "Requirement already satisfied: multiprocess<0.70.17 in /usr/local/lib/python3.11/site-packages (from datasets<3.4,>=3.0->ms-swift) (0.70.16)\n",
      "Requirement already satisfied: fsspec<=2024.9.0,>=2023.1.0 in /usr/local/lib/python3.11/site-packages (from fsspec[http]<=2024.9.0,>=2023.1.0->datasets<3.4,>=3.0->ms-swift) (2024.9.0)\n",
      "Requirement already satisfied: huggingface-hub>=0.23.0 in /usr/local/lib/python3.11/site-packages (from datasets<3.4,>=3.0->ms-swift) (0.32.6)\n",
      "Requirement already satisfied: packaging in /usr/local/lib/python3.11/site-packages (from datasets<3.4,>=3.0->ms-swift) (24.2)\n",
      "Requirement already satisfied: pyyaml>=5.1 in /usr/local/lib/python3.11/site-packages (from datasets<3.4,>=3.0->ms-swift) (6.0.2)\n",
      "Requirement already satisfied: aiofiles<25.0,>=22.0 in /usr/local/lib/python3.11/site-packages (from gradio>=3.40.0->ms-swift) (24.1.0)\n",
      "Requirement already satisfied: anyio<5.0,>=3.0 in /usr/local/lib/python3.11/site-packages (from gradio>=3.40.0->ms-swift) (4.9.0)\n",
      "Requirement already satisfied: ffmpy in /usr/local/lib/python3.11/site-packages (from gradio>=3.40.0->ms-swift) (0.6.0)\n",
      "Requirement already satisfied: gradio-client==1.10.3 in /usr/local/lib/python3.11/site-packages (from gradio>=3.40.0->ms-swift) (1.10.3)\n",
      "Requirement already satisfied: groovy~=0.1 in /usr/local/lib/python3.11/site-packages (from gradio>=3.40.0->ms-swift) (0.1.2)\n",
      "Requirement already satisfied: httpx>=0.24.1 in /usr/local/lib/python3.11/site-packages (from gradio>=3.40.0->ms-swift) (0.28.1)\n",
      "Requirement already satisfied: jinja2<4.0 in /usr/local/lib/python3.11/site-packages (from gradio>=3.40.0->ms-swift) (3.1.6)\n",
      "Requirement already satisfied: markupsafe<4.0,>=2.0 in /usr/local/lib/python3.11/site-packages (from gradio>=3.40.0->ms-swift) (3.0.2)\n",
      "Requirement already satisfied: orjson~=3.0 in /usr/local/lib/python3.11/site-packages (from gradio>=3.40.0->ms-swift) (3.10.18)\n",
      "Requirement already satisfied: pydantic<2.12,>=2.0 in /usr/local/lib/python3.11/site-packages (from gradio>=3.40.0->ms-swift) (2.11.5)\n",
      "Requirement already satisfied: pydub in /usr/local/lib/python3.11/site-packages (from gradio>=3.40.0->ms-swift) (0.25.1)\n",
      "Requirement already satisfied: python-multipart>=0.0.18 in /usr/local/lib/python3.11/site-packages (from gradio>=3.40.0->ms-swift) (0.0.20)\n",
      "Requirement already satisfied: ruff>=0.9.3 in /usr/local/lib/python3.11/site-packages (from gradio>=3.40.0->ms-swift) (0.11.13)\n",
      "Requirement already satisfied: safehttpx<0.2.0,>=0.1.6 in /usr/local/lib/python3.11/site-packages (from gradio>=3.40.0->ms-swift) (0.1.6)\n",
      "Requirement already satisfied: semantic-version~=2.0 in /usr/local/lib/python3.11/site-packages (from gradio>=3.40.0->ms-swift) (2.10.0)\n",
      "Requirement already satisfied: starlette<1.0,>=0.40.0 in /usr/local/lib/python3.11/site-packages (from gradio>=3.40.0->ms-swift) (0.46.2)\n",
      "Requirement already satisfied: tomlkit<0.14.0,>=0.12.0 in /usr/local/lib/python3.11/site-packages (from gradio>=3.40.0->ms-swift) (0.13.3)\n",
      "Requirement already satisfied: typer<1.0,>=0.12 in /usr/local/lib/python3.11/site-packages (from gradio>=3.40.0->ms-swift) (0.16.0)\n",
      "Requirement already satisfied: typing-extensions~=4.0 in /usr/local/lib/python3.11/site-packages (from gradio>=3.40.0->ms-swift) (4.12.2)\n",
      "Requirement already satisfied: websockets<16.0,>=10.0 in /usr/local/lib/python3.11/site-packages (from gradio-client==1.10.3->gradio>=3.40.0->ms-swift) (15.0.1)\n",
      "Requirement already satisfied: setuptools in /usr/local/lib/python3.11/site-packages (from modelscope>=1.23->ms-swift) (65.5.1)\n",
      "Requirement already satisfied: urllib3>=1.26 in /usr/local/lib/python3.11/site-packages (from modelscope>=1.23->ms-swift) (2.3.0)\n",
      "Requirement already satisfied: python-dateutil>=2.8.2 in /usr/local/lib/python3.11/site-packages (from pandas->ms-swift) (2.9.0.post0)\n",
      "Requirement already satisfied: pytz>=2020.1 in /usr/local/lib/python3.11/site-packages (from pandas->ms-swift) (2025.1)\n",
      "Requirement already satisfied: tzdata>=2022.7 in /usr/local/lib/python3.11/site-packages (from pandas->ms-swift) (2025.1)\n",
      "Requirement already satisfied: psutil in /usr/local/lib/python3.11/site-packages (from peft<0.16,>=0.11->ms-swift) (7.0.0)\n",
      "Requirement already satisfied: torch>=1.13.0 in /usr/local/lib/python3.11/site-packages (from peft<0.16,>=0.11->ms-swift) (2.3.1+cpu)\n",
      "Requirement already satisfied: idna<4,>=2.5 in /usr/local/lib/python3.11/site-packages (from requests->ms-swift) (3.10)\n",
      "Requirement already satisfied: certifi>=2017.4.17 in /usr/local/lib/python3.11/site-packages (from requests->ms-swift) (2025.1.31)\n",
      "Requirement already satisfied: regex!=2019.12.17 in /usr/local/lib/python3.11/site-packages (from transformers<4.53,>=4.33->ms-swift) (2024.11.6)\n",
      "Requirement already satisfied: tokenizers<0.22,>=0.21 in /usr/local/lib/python3.11/site-packages (from transformers<4.53,>=4.33->ms-swift) (0.21.1)\n",
      "Requirement already satisfied: rich in /usr/local/lib/python3.11/site-packages (from trl<0.20,>=0.15->ms-swift) (13.9.4)\n",
      "Requirement already satisfied: click>=7.0 in /usr/local/lib/python3.11/site-packages (from uvicorn->ms-swift) (8.1.8)\n",
      "Requirement already satisfied: h11>=0.8 in /usr/local/lib/python3.11/site-packages (from uvicorn->ms-swift) (0.16.0)\n",
      "Requirement already satisfied: aiohappyeyeballs>=2.5.0 in /usr/local/lib/python3.11/site-packages (from aiohttp->ms-swift) (2.6.1)\n",
      "Requirement already satisfied: aiosignal>=1.1.2 in /usr/local/lib/python3.11/site-packages (from aiohttp->ms-swift) (1.3.2)\n",
      "Requirement already satisfied: attrs>=17.3.0 in /usr/local/lib/python3.11/site-packages (from aiohttp->ms-swift) (25.3.0)\n",
      "Requirement already satisfied: frozenlist>=1.1.1 in /usr/local/lib/python3.11/site-packages (from aiohttp->ms-swift) (1.6.2)\n",
      "Requirement already satisfied: multidict<7.0,>=4.5 in /usr/local/lib/python3.11/site-packages (from aiohttp->ms-swift) (6.4.4)\n",
      "Requirement already satisfied: propcache>=0.2.0 in /usr/local/lib/python3.11/site-packages (from aiohttp->ms-swift) (0.3.1)\n",
      "Requirement already satisfied: yarl<2.0,>=1.17.0 in /usr/local/lib/python3.11/site-packages (from aiohttp->ms-swift) (1.20.0)\n",
      "Requirement already satisfied: six in /usr/local/lib/python3.11/site-packages (from attrdict->ms-swift) (1.17.0)\n",
      "Requirement already satisfied: future in /usr/local/lib/python3.11/site-packages (from binpacking->ms-swift) (1.0.0)\n",
      "Requirement already satisfied: zipp>=3.20 in /usr/local/lib/python3.11/site-packages (from importlib-metadata->ms-swift) (3.22.0)\n",
      "Requirement already satisfied: contourpy>=1.0.1 in /usr/local/lib/python3.11/site-packages (from matplotlib->ms-swift) (1.3.2)\n",
      "Requirement already satisfied: cycler>=0.10 in /usr/local/lib/python3.11/site-packages (from matplotlib->ms-swift) (0.12.1)\n",
      "Requirement already satisfied: fonttools>=4.22.0 in /usr/local/lib/python3.11/site-packages (from matplotlib->ms-swift) (4.58.1)\n",
      "Requirement already satisfied: kiwisolver>=1.3.1 in /usr/local/lib/python3.11/site-packages (from matplotlib->ms-swift) (1.4.8)\n",
      "Requirement already satisfied: pyparsing>=2.3.1 in /usr/local/lib/python3.11/site-packages (from matplotlib->ms-swift) (3.2.3)\n",
      "Requirement already satisfied: joblib in /usr/local/lib/python3.11/site-packages (from nltk->ms-swift) (1.4.2)\n",
      "Requirement already satisfied: distro<2,>=1.7.0 in /usr/local/lib/python3.11/site-packages (from openai->ms-swift) (1.9.0)\n",
      "Requirement already satisfied: jiter<1,>=0.4.0 in /usr/local/lib/python3.11/site-packages (from openai->ms-swift) (0.10.0)\n",
      "Requirement already satisfied: sniffio in /usr/local/lib/python3.11/site-packages (from openai->ms-swift) (1.3.1)\n",
      "Requirement already satisfied: crcmod>=1.7 in /usr/local/lib/python3.11/site-packages (from oss2->ms-swift) (1.7)\n",
      "Requirement already satisfied: pycryptodome>=3.4.7 in /usr/local/lib/python3.11/site-packages (from oss2->ms-swift) (3.23.0)\n",
      "Requirement already satisfied: aliyun-python-sdk-kms>=2.4.1 in /usr/local/lib/python3.11/site-packages (from oss2->ms-swift) (2.16.5)\n",
      "Requirement already satisfied: aliyun-python-sdk-core>=2.13.12 in /usr/local/lib/python3.11/site-packages (from oss2->ms-swift) (2.16.0)\n",
      "Requirement already satisfied: absl-py>=0.4 in /usr/local/lib/python3.11/site-packages (from tensorboard->ms-swift) (2.3.0)\n",
      "Requirement already satisfied: grpcio>=1.48.2 in /usr/local/lib/python3.11/site-packages (from tensorboard->ms-swift) (1.72.1)\n",
      "Requirement already satisfied: markdown>=2.6.8 in /usr/local/lib/python3.11/site-packages (from tensorboard->ms-swift) (3.8)\n",
      "Requirement already satisfied: protobuf!=4.24.0,>=3.19.6 in /usr/local/lib/python3.11/site-packages (from tensorboard->ms-swift) (3.20.3)\n",
      "Requirement already satisfied: tensorboard-data-server<0.8.0,>=0.7.0 in /usr/local/lib/python3.11/site-packages (from tensorboard->ms-swift) (0.7.2)\n",
      "Requirement already satisfied: werkzeug>=1.0.1 in /usr/local/lib/python3.11/site-packages (from tensorboard->ms-swift) (3.1.3)\n",
      "Requirement already satisfied: jmespath<1.0.0,>=0.9.3 in /usr/local/lib/python3.11/site-packages (from aliyun-python-sdk-core>=2.13.12->oss2->ms-swift) (0.10.0)\n",
      "Requirement already satisfied: cryptography>=3.0.0 in /usr/local/lib/python3.11/site-packages (from aliyun-python-sdk-core>=2.13.12->oss2->ms-swift) (45.0.3)\n",
      "Requirement already satisfied: httpcore==1.* in /usr/local/lib/python3.11/site-packages (from httpx>=0.24.1->gradio>=3.40.0->ms-swift) (1.0.9)\n",
      "Requirement already satisfied: hf-xet<2.0.0,>=1.1.2 in /usr/local/lib/python3.11/site-packages (from huggingface-hub>=0.23.0->datasets<3.4,>=3.0->ms-swift) (1.1.3)\n",
      "Requirement already satisfied: annotated-types>=0.6.0 in /usr/local/lib/python3.11/site-packages (from pydantic<2.12,>=2.0->gradio>=3.40.0->ms-swift) (0.7.0)\n",
      "Requirement already satisfied: pydantic-core==2.33.2 in /usr/local/lib/python3.11/site-packages (from pydantic<2.12,>=2.0->gradio>=3.40.0->ms-swift) (2.33.2)\n",
      "Requirement already satisfied: typing-inspection>=0.4.0 in /usr/local/lib/python3.11/site-packages (from pydantic<2.12,>=2.0->gradio>=3.40.0->ms-swift) (0.4.1)\n",
      "Requirement already satisfied: sympy in /usr/local/lib/python3.11/site-packages (from torch>=1.13.0->peft<0.16,>=0.11->ms-swift) (1.13.3)\n",
      "Requirement already satisfied: networkx in /usr/local/lib/python3.11/site-packages (from torch>=1.13.0->peft<0.16,>=0.11->ms-swift) (3.4.2)\n",
      "Requirement already satisfied: shellingham>=1.3.0 in /usr/local/lib/python3.11/site-packages (from typer<1.0,>=0.12->gradio>=3.40.0->ms-swift) (1.5.4)\n",
      "Requirement already satisfied: markdown-it-py>=2.2.0 in /usr/local/lib/python3.11/site-packages (from rich->trl<0.20,>=0.15->ms-swift) (3.0.0)\n",
      "Requirement already satisfied: pygments<3.0.0,>=2.13.0 in /usr/local/lib/python3.11/site-packages (from rich->trl<0.20,>=0.15->ms-swift) (2.19.1)\n",
      "Requirement already satisfied: cffi>=1.14 in /usr/local/lib/python3.11/site-packages (from cryptography>=3.0.0->aliyun-python-sdk-core>=2.13.12->oss2->ms-swift) (1.17.1)\n",
      "Requirement already satisfied: mdurl~=0.1 in /usr/local/lib/python3.11/site-packages (from markdown-it-py>=2.2.0->rich->trl<0.20,>=0.15->ms-swift) (0.1.2)\n",
      "Requirement already satisfied: mpmath<1.4,>=1.1.0 in /usr/local/lib/python3.11/site-packages (from sympy->torch>=1.13.0->peft<0.16,>=0.11->ms-swift) (1.3.0)\n",
      "Requirement already satisfied: pycparser in /usr/local/lib/python3.11/site-packages (from cffi>=1.14->cryptography>=3.0.0->aliyun-python-sdk-core>=2.13.12->oss2->ms-swift) (2.22)\n",
      "\u001b[33mDEPRECATION: pytorch-lightning 1.7.7 has a non-standard dependency specifier torch>=1.9.*. pip 24.0 will enforce this behaviour change. A possible replacement is to upgrade to a newer version of pytorch-lightning or contact the author to suggest that they release a version with a conforming dependency specifiers. Discussion can be found at https://github.com/pypa/pip/issues/12063\u001b[0m\u001b[33m\n",
      "\u001b[0mInstalling collected packages: ms-swift\n",
      "  Attempting uninstall: ms-swift\n",
      "    Found existing installation: ms-swift 3.4.1.post1\n",
      "    Uninstalling ms-swift-3.4.1.post1:\n",
      "      Successfully uninstalled ms-swift-3.4.1.post1\n",
      "Successfully installed ms-swift-3.5.2\n",
      "\u001b[33mWARNING: Running pip as the 'root' user can result in broken permissions and conflicting behaviour with the system package manager. It is recommended to use a virtual environment instead: https://pip.pypa.io/warnings/venv\u001b[0m\u001b[33m\n",
      "\u001b[0m\n",
      "\u001b[1m[\u001b[0m\u001b[34;49mnotice\u001b[0m\u001b[1;39;49m]\u001b[0m\u001b[39;49m A new release of pip is available: \u001b[0m\u001b[31;49m23.3.2\u001b[0m\u001b[39;49m -> \u001b[0m\u001b[32;49m25.1.1\u001b[0m\n",
      "\u001b[1m[\u001b[0m\u001b[34;49mnotice\u001b[0m\u001b[1;39;49m]\u001b[0m\u001b[39;49m To update, run: \u001b[0m\u001b[32;49mpip install --upgrade pip\u001b[0m\n"
     ]
    }
   ],
   "source": [
    "!pip install ms-swift -U"
   ]
  },
  {
   "cell_type": "markdown",
   "id": "26f725c5-f17f-4783-86e1-f63c05db9ae1",
   "metadata": {},
   "source": [
    "使用 swift 框架对 Qwen2.5-7B-Instruct 模型进行 LoRA 微调"
   ]
  },
  {
   "cell_type": "code",
   "execution_count": null,
   "id": "ffdcc5cc-af27-4474-96e4-f9c13a2691a2",
   "metadata": {},
   "outputs": [],
   "source": [
    "# 22GB\n",
    "CUDA_VISIBLE_DEVICES=0 \\\n",
    "swift sft \\\n",
    "    --model Qwen/Qwen2.5-7B-Instruct \\\n",
    "    --train_type lora \\\n",
    "    --dataset 'AI-ModelScope/alpaca-gpt4-data-zh#500' \\\n",
    "              'AI-ModelScope/alpaca-gpt4-data-en#500' \\\n",
    "              'swift/self-cognition#500' \\\n",
    "    --torch_dtype bfloat16 \\\n",
    "    --num_train_epochs 1 \\\n",
    "    --per_device_train_batch_size 1 \\\n",
    "    --per_device_eval_batch_size 1 \\\n",
    "    --learning_rate 1e-4 \\\n",
    "    --lora_rank 8 \\\n",
    "    --lora_alpha 32 \\\n",
    "    --target_modules all-linear \\\n",
    "    --gradient_accumulation_steps 16 \\\n",
    "    --eval_steps 50 \\\n",
    "    --save_steps 50 \\\n",
    "    --save_total_limit 2 \\\n",
    "    --logging_steps 5 \\\n",
    "    --max_length 2048 \\\n",
    "    --output_dir output \\\n",
    "    --system 'You are a helpful assistant.' \\\n",
    "    --warmup_ratio 0.05 \\\n",
    "    --dataloader_num_workers 4 \\\n",
    "    --model_author swift \\\n",
    "    --model_name swift-robot"
   ]
  },
  {
   "cell_type": "markdown",
   "id": "02a97388-ff3c-4aba-9dae-5e1738fe65bf",
   "metadata": {},
   "source": [
    "使用训练后的参数进行推理"
   ]
  },
  {
   "cell_type": "code",
   "execution_count": null,
   "id": "0cd635cc-20f6-4aa5-90a4-b06c291e2b90",
   "metadata": {},
   "outputs": [],
   "source": [
    "CUDA_VISIBLE_DEVICES=0 \\\n",
    "swift infer \\\n",
    "    --adapters output/vx-xxx/checkpoint-xxx \\\n",
    "    --stream true \\\n",
    "    --temperature 0 \\\n",
    "    --max_new_tokens 2048"
   ]
  },
  {
   "cell_type": "markdown",
   "id": "a099cd40-1127-4d0d-8673-7bbfa1927455",
   "metadata": {},
   "source": [
    "### 模型部署\n",
    "SwingDeploy 支持一键部署模型到云资源上，并且提供兼容 OpenAI 的 API 接口;\n",
    "对于自用 GPU 环境推荐使用 vllm 部署模型"
   ]
  },
  {
   "cell_type": "code",
   "execution_count": null,
   "id": "a43b2c1c-f145-4bf6-9df9-7f12dc7ee0a7",
   "metadata": {},
   "outputs": [],
   "source": [
    "!vllm serve Qwen/Qwen2.5-7B-Instruct --enable-auto-tool-choice --tool-call-parser hermes"
   ]
  }
 ],
 "metadata": {
  "kernelspec": {
   "display_name": "Python 3 (ipykernel)",
   "language": "python",
   "name": "python3"
  },
  "language_info": {
   "codemirror_mode": {
    "name": "ipython",
    "version": 3
   },
   "file_extension": ".py",
   "mimetype": "text/x-python",
   "name": "python",
   "nbconvert_exporter": "python",
   "pygments_lexer": "ipython3",
   "version": "3.11.11"
  }
 },
 "nbformat": 4,
 "nbformat_minor": 5
}
